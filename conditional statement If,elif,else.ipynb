{
 "cells": [
  {
   "cell_type": "code",
   "execution_count": 7,
   "id": "62d85f3b",
   "metadata": {},
   "outputs": [
    {
     "name": "stdout",
     "output_type": "stream",
     "text": [
      "Hello!\n"
     ]
    }
   ],
   "source": [
    "a=10\n",
    "if a==10:\n",
    "    print(\"Hello!\")\n"
   ]
  },
  {
   "cell_type": "code",
   "execution_count": 9,
   "id": "015f46de",
   "metadata": {},
   "outputs": [],
   "source": [
    "a=10\n",
    "if a>5:\n",
    "    pass"
   ]
  },
  {
   "cell_type": "code",
   "execution_count": 11,
   "id": "13e145aa",
   "metadata": {},
   "outputs": [],
   "source": [
    "a=10\n",
    "if a<8:\n",
    "    print(\"print this condition is true\")"
   ]
  },
  {
   "cell_type": "code",
   "execution_count": 15,
   "id": "c14f4d55",
   "metadata": {},
   "outputs": [
    {
     "name": "stdout",
     "output_type": "stream",
     "text": [
      "print this\n"
     ]
    }
   ],
   "source": [
    "a=11\n",
    "if a!=11:\n",
    "    print(\"condition false\")\n",
    "else:\n",
    "    print(\"print this\")\n"
   ]
  },
  {
   "cell_type": "code",
   "execution_count": 16,
   "id": "e9ecb7f0",
   "metadata": {},
   "outputs": [
    {
     "name": "stdout",
     "output_type": "stream",
     "text": [
      "print this\n"
     ]
    }
   ],
   "source": [
    "a =10\n",
    "if a ==12:\n",
    "    print(\"comarision between 10 and 12\")\n",
    "elif a==11:\n",
    "    print(\"comparision between 10 and 11\")\n",
    "else:\n",
    "    print(\"print this\")"
   ]
  },
  {
   "cell_type": "code",
   "execution_count": 25,
   "id": "6f0eb337",
   "metadata": {},
   "outputs": [
    {
     "name": "stdout",
     "output_type": "stream",
     "text": [
      "I will be able to buy a jacket\n"
     ]
    }
   ],
   "source": [
    "price =500\n",
    "if price >500:\n",
    "    print(\"I won't be able to buy a jacket\")\n",
    "elif price<=500:\n",
    "    print(\"I will be able to buy a jacket\")\n",
    "else:\n",
    "    print(\"I don't know \")\n",
    "    \n"
   ]
  },
  {
   "cell_type": "code",
   "execution_count": 26,
   "id": "e8fd173e",
   "metadata": {},
   "outputs": [
    {
     "data": {
      "text/plain": [
       "True"
      ]
     },
     "execution_count": 26,
     "metadata": {},
     "output_type": "execute_result"
    }
   ],
   "source": [
    "l=[1,2,3,4,5]\n",
    "2 in l"
   ]
  },
  {
   "cell_type": "code",
   "execution_count": 27,
   "id": "ce41551a",
   "metadata": {},
   "outputs": [
    {
     "name": "stdout",
     "output_type": "stream",
     "text": [
      "perform task\n"
     ]
    }
   ],
   "source": [
    "if 2 in l:\n",
    "    print(\"perform task\")\n",
    "else:\n",
    "    print(\"NA\")"
   ]
  },
  {
   "cell_type": "code",
   "execution_count": 28,
   "id": "917a5d8f",
   "metadata": {},
   "outputs": [
    {
     "data": {
      "text/plain": [
       "[1, 2, 3, 4, 5]"
      ]
     },
     "execution_count": 28,
     "metadata": {},
     "output_type": "execute_result"
    }
   ],
   "source": [
    "l"
   ]
  },
  {
   "cell_type": "code",
   "execution_count": 30,
   "id": "6a89b344",
   "metadata": {},
   "outputs": [
    {
     "name": "stdout",
     "output_type": "stream",
     "text": [
      "do addition\n",
      "perform division\n"
     ]
    }
   ],
   "source": [
    "if 1 in l:\n",
    "    print(\"do addition\")\n",
    "elif 2 in l:\n",
    "    print(\"perform substraction\")\n",
    "elif 3 in l:\n",
    "    print(\"perform multiplication\")\n",
    "if 4 in l:\n",
    "    print(\"perform division\")"
   ]
  },
  {
   "cell_type": "code",
   "execution_count": 31,
   "id": "cf764cca",
   "metadata": {},
   "outputs": [],
   "source": [
    "a=400\n"
   ]
  },
  {
   "cell_type": "code",
   "execution_count": 32,
   "id": "09c4d31f",
   "metadata": {},
   "outputs": [
    {
     "name": "stdout",
     "output_type": "stream",
     "text": [
      "Enter number: 4\n"
     ]
    }
   ],
   "source": [
    "b=input(\"Enter number: \")"
   ]
  },
  {
   "cell_type": "code",
   "execution_count": 4,
   "id": "5938a5e9",
   "metadata": {},
   "outputs": [
    {
     "name": "stdout",
     "output_type": "stream",
     "text": [
      "300\n",
      "No GRE\n",
      "Tofel\n",
      "try something else\n"
     ]
    }
   ],
   "source": [
    "marks=int(input())\n",
    "if marks<600:\n",
    "    print(\"No GRE\")\n",
    "    if marks<500:\n",
    "        print(\"Tofel\")\n",
    "        if marks<400:\n",
    "            print(\"try something else\")\n",
    "    else:\n",
    "        print(\"You got something TOFEL\")\n",
    "else:\n",
    "    print(\"Congrats!You got GRE\")\n",
    "\n",
    "    \n",
    "\n"
   ]
  },
  {
   "cell_type": "code",
   "execution_count": 7,
   "id": "16e0eebf",
   "metadata": {},
   "outputs": [
    {
     "name": "stdout",
     "output_type": "stream",
     "text": [
      "Enter Number: -8\n",
      "Enterd number is negative\n"
     ]
    }
   ],
   "source": [
    "val = float(input(\"Enter Number: \"))\n",
    "if val>=0:\n",
    "    if val==0:\n",
    "        print(\"entered value is zero\")\n",
    "    else:\n",
    "        print(\"entered value is positive\")\n",
    "else:\n",
    "    print(\"Enterd number is negative\")\n"
   ]
  },
  {
   "cell_type": "code",
   "execution_count": 11,
   "id": "221d6650",
   "metadata": {},
   "outputs": [
    {
     "name": "stdout",
     "output_type": "stream",
     "text": [
      "try to do something\n"
     ]
    }
   ],
   "source": [
    "a=10\n",
    "if a<10 or a==10:\n",
    "    print(\"try to do something\")\n"
   ]
  },
  {
   "cell_type": "code",
   "execution_count": 16,
   "id": "28023e6f",
   "metadata": {},
   "outputs": [
    {
     "name": "stdout",
     "output_type": "stream",
     "text": [
      "lets do something\n"
     ]
    }
   ],
   "source": [
    "a=10\n",
    "b=11\n",
    "c=12\n",
    "d=13\n",
    "if a==9 or b==11 and c==12 and d==13:\n",
    "    print(\"lets do something\")"
   ]
  },
  {
   "cell_type": "code",
   "execution_count": 17,
   "id": "b30536a6",
   "metadata": {},
   "outputs": [],
   "source": [
    "d={'key1':'value','key2':'sudh','key3':'iNueron'}"
   ]
  },
  {
   "cell_type": "code",
   "execution_count": 20,
   "id": "70904cf8",
   "metadata": {},
   "outputs": [
    {
     "name": "stdout",
     "output_type": "stream",
     "text": [
      "all values are not varified\n"
     ]
    }
   ],
   "source": [
    "if d['key1']=='value' and d['key2']=='Sudh' and d['key3']=='iNueron':\n",
    "    print(\"all values are true\")\n",
    "    print(d.values())\n",
    "else:\n",
    "    print(\"all values are not varified\")"
   ]
  },
  {
   "cell_type": "code",
   "execution_count": 21,
   "id": "98627731",
   "metadata": {},
   "outputs": [
    {
     "data": {
      "text/plain": [
       "1"
      ]
     },
     "execution_count": 21,
     "metadata": {},
     "output_type": "execute_result"
    }
   ],
   "source": [
    "l=[1,2,3,4,5,'sudh',23.5]\n",
    "l[0]"
   ]
  },
  {
   "cell_type": "code",
   "execution_count": 22,
   "id": "187dbdda",
   "metadata": {},
   "outputs": [
    {
     "name": "stdout",
     "output_type": "stream",
     "text": [
      "1\n",
      "2\n",
      "3\n",
      "4\n",
      "5\n",
      "sudh\n",
      "23.5\n"
     ]
    }
   ],
   "source": [
    "for i in l:\n",
    "    print(i)"
   ]
  },
  {
   "cell_type": "code",
   "execution_count": 23,
   "id": "babe4f81",
   "metadata": {},
   "outputs": [
    {
     "data": {
      "text/plain": [
       "[1, 2, 3, 4, 5, 'sudh', 23.5]"
      ]
     },
     "execution_count": 23,
     "metadata": {},
     "output_type": "execute_result"
    }
   ],
   "source": [
    "l"
   ]
  },
  {
   "cell_type": "code",
   "execution_count": 35,
   "id": "4970aba1",
   "metadata": {},
   "outputs": [
    {
     "name": "stdout",
     "output_type": "stream",
     "text": [
      "2\n",
      "3\n",
      "4\n",
      "5\n",
      "6\n",
      "sudh1\n",
      "24.5\n"
     ]
    }
   ],
   "source": [
    "\n",
    "for i in l:\n",
    "    if type(i)==int or type(i)==float:\n",
    "        print(i+1)\n",
    "    elif type(i)==str:\n",
    "        print(i+str(1))\n",
    "     \n",
    "        \n",
    "        \n",
    "\n",
    "    "
   ]
  },
  {
   "cell_type": "code",
   "execution_count": 33,
   "id": "7a32d383",
   "metadata": {},
   "outputs": [],
   "source": [
    "l1 =[]\n",
    "for i in l:\n",
    "    if type(i)==int:\n",
    "        l1.append(i)"
   ]
  },
  {
   "cell_type": "code",
   "execution_count": 34,
   "id": "d26aecad",
   "metadata": {},
   "outputs": [
    {
     "data": {
      "text/plain": [
       "[1, 2, 3, 4, 5]"
      ]
     },
     "execution_count": 34,
     "metadata": {},
     "output_type": "execute_result"
    }
   ],
   "source": [
    "l1"
   ]
  },
  {
   "cell_type": "code",
   "execution_count": null,
   "id": "6216c4e4",
   "metadata": {},
   "outputs": [],
   "source": []
  }
 ],
 "metadata": {
  "kernelspec": {
   "display_name": "Python 3 (ipykernel)",
   "language": "python",
   "name": "python3"
  },
  "language_info": {
   "codemirror_mode": {
    "name": "ipython",
    "version": 3
   },
   "file_extension": ".py",
   "mimetype": "text/x-python",
   "name": "python",
   "nbconvert_exporter": "python",
   "pygments_lexer": "ipython3",
   "version": "3.10.9"
  }
 },
 "nbformat": 4,
 "nbformat_minor": 5
}
