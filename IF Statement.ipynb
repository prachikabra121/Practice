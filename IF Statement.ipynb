{
 "cells": [
  {
   "cell_type": "markdown",
   "id": "36ce403d",
   "metadata": {},
   "source": [
    "# IF Statement"
   ]
  },
  {
   "cell_type": "code",
   "execution_count": 1,
   "id": "46079c63",
   "metadata": {},
   "outputs": [
    {
     "name": "stdout",
     "output_type": "stream",
     "text": [
      "Enter age : 23\n",
      "you can vote...\n"
     ]
    }
   ],
   "source": [
    "age =int(input(\"Enter age : \"))\n",
    "if age>18:\n",
    "    print(\"you can vote...\")\n",
    "else:\n",
    "    print(\"you have to wait till your age will 18 years\")"
   ]
  },
  {
   "cell_type": "code",
   "execution_count": 2,
   "id": "4a877081",
   "metadata": {},
   "outputs": [
    {
     "name": "stdout",
     "output_type": "stream",
     "text": [
      "enter your score: 78\n",
      "Average performance!!your grade is B\n"
     ]
    }
   ],
   "source": [
    "#Performance card\n",
    "score =int(input(\"enter your score: \"))\n",
    "if score>=90:\n",
    "    print(\"Excellent performance!!your grade is A+\")\n",
    "elif score>=80:\n",
    "    print(\"Good performance!!your grade is A\")\n",
    "elif score >=70:\n",
    "    print(\"Average performance!!your grade is B\")\n",
    "else:\n",
    "    print(\"You are just passed!!need to improvement..your grade is C\")"
   ]
  },
  {
   "cell_type": "code",
   "execution_count": 4,
   "id": "6fb8fc3f",
   "metadata": {},
   "outputs": [
    {
     "name": "stdout",
     "output_type": "stream",
     "text": [
      "Enter first number: 23\n",
      "Enter second number: 3\n",
      "Enter third number: 5\n",
      "largest number is: 23.0\n"
     ]
    }
   ],
   "source": [
    "#find the largest number from 3 given number\n",
    "num1=float(input(\"Enter first number: \"))\n",
    "num2=float(input(\"Enter second number: \"))\n",
    "num3=float(input(\"Enter third number: \"))\n",
    "if (num1>=num2)and(num1>=num2):\n",
    "    print(\"largest number is:\", num1)\n",
    "elif (num2 >= num1)and (num2>=num3):\n",
    "          print(\"largest number is\", num2)\n",
    "else:\n",
    "    print(\"largest number is\", num3)"
   ]
  },
  {
   "cell_type": "code",
   "execution_count": 5,
   "id": "d7f23f73",
   "metadata": {},
   "outputs": [
    {
     "name": "stdout",
     "output_type": "stream",
     "text": [
      "Enter your choice(add/sub/mul/div): mul\n",
      "Enter first number: 4\n",
      "Enter second number: 3\n",
      "4.0   *  3.0  =  12.0\n"
     ]
    }
   ],
   "source": [
    "\"\"\"let us make a simple calculator which takes the\n",
    "choice of operation from user x also\n",
    "user enter two numbers which needed to be computed.\"\"\"\n",
    "\n",
    "choice = input(\"Enter your choice(add/sub/mul/div): \")\n",
    "\n",
    "num1 = float(input(\"Enter first number: \"))\n",
    "num2 = float(input(\"Enter second number: \"))\n",
    "\n",
    "if choice ==\"add\":\n",
    "    print(num1, \"  + \", num2, \" = \",num1+num2)\n",
    "elif choice == \"sub\":\n",
    "    print(num1, \"  - \", num2, \" = \",num1-num2)\n",
    "    \n",
    "elif choice==\"mul\":\n",
    "    print(num1, \"  * \", num2, \" = \",num1*num2)\n",
    "elif choice ==\"div\":\n",
    "    print(num1, \"  / \", num2, \" = \",num1/num2)\n",
    "    \n",
    "else:\n",
    "    print(\"Wrong choice!!\")\n",
    "    "
   ]
  },
  {
   "cell_type": "code",
   "execution_count": 10,
   "id": "eff2614c",
   "metadata": {},
   "outputs": [
    {
     "name": "stdout",
     "output_type": "stream",
     "text": [
      "Enter your desigination(Exicutive/manager/senior manager): Manager\n",
      "salary range of executive is 60000  to  90000\n"
     ]
    }
   ],
   "source": [
    "\"\"\"we have 3 desigination: Executive, manager, senior manager\n",
    "x take input from the user \"desigination\" and print salary of that desigination\"\"\"\n",
    "#Input: ask for desigination\n",
    "#output: thee salary range of the executive is: 30000-40000\n",
    "\n",
    "x = input(\"Enter your desigination(Exicutive/manager/senior manager): \")\n",
    "\n",
    "if x==\"Executive\" or x==\"executive\":\n",
    "    print(\"salary range of executive is\",30000 ,\" to \", 40000 )\n",
    "elif x==\"manager\" or x==\"Manager\":\n",
    "    print(\"salary range of executive is\",60000 ,\" to \", 90000 )\n",
    "elif x==\"senior manager\" or x==\"Senior manager\":\n",
    "    print(\"salary range of executive is\",120000 ,\" to \", 160000 )\n",
    "else:\n",
    "    print(\"Wrong choice\")\n",
    "\n",
    "       \n",
    "\n"
   ]
  },
  {
   "cell_type": "code",
   "execution_count": 13,
   "id": "b1c2a349",
   "metadata": {},
   "outputs": [
    {
     "name": "stdout",
     "output_type": "stream",
     "text": [
      "Enter your desigination(Exicutive/manager/senior manager): hhh\n",
      "Please enter your choice (Exicutive/manager/senior manager)\n"
     ]
    }
   ],
   "source": [
    "desiganation = input(\"Enter your desigination(Exicutive/manager/senior manager): \")\n",
    "desiganation = desiganation.lower() #convert to lower\n",
    "if desiganation==\"executive\":\n",
    "    print(\"salary range of executive is\",30000 ,\" to \", 40000 )\n",
    "elif desiganation==\"manager\":\n",
    "    print(\"salary range of executive is\",60000 ,\" to \", 90000 )\n",
    "elif desiganation==\"senior manager\" :\n",
    "    print(\"salary range of executive is\",120000 ,\" to \", 160000 )\n",
    "else:\n",
    "    print(\"Please enter your choice (Exicutive/manager/senior manager)\")\n"
   ]
  },
  {
   "cell_type": "code",
   "execution_count": null,
   "id": "1b428a52",
   "metadata": {},
   "outputs": [],
   "source": []
  }
 ],
 "metadata": {
  "kernelspec": {
   "display_name": "Python 3 (ipykernel)",
   "language": "python",
   "name": "python3"
  },
  "language_info": {
   "codemirror_mode": {
    "name": "ipython",
    "version": 3
   },
   "file_extension": ".py",
   "mimetype": "text/x-python",
   "name": "python",
   "nbconvert_exporter": "python",
   "pygments_lexer": "ipython3",
   "version": "3.10.9"
  }
 },
 "nbformat": 4,
 "nbformat_minor": 5
}
