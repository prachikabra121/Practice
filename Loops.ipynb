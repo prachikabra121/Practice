{
 "cells": [
  {
   "cell_type": "code",
   "execution_count": 1,
   "id": "751e4942",
   "metadata": {},
   "outputs": [],
   "source": [
    "l=[1,2,3,4,\"p\",\"k\",4.5]"
   ]
  },
  {
   "cell_type": "code",
   "execution_count": 2,
   "id": "87e328bd",
   "metadata": {},
   "outputs": [
    {
     "name": "stdout",
     "output_type": "stream",
     "text": [
      "1\n",
      "2\n",
      "3\n",
      "4\n",
      "p\n",
      "k\n",
      "4.5\n"
     ]
    }
   ],
   "source": [
    "for i in l:\n",
    "    print(i)"
   ]
  },
  {
   "cell_type": "code",
   "execution_count": 4,
   "id": "57e26477",
   "metadata": {},
   "outputs": [],
   "source": [
    "for i in l:\n",
    "    pass\n",
    "    "
   ]
  },
  {
   "cell_type": "code",
   "execution_count": 5,
   "id": "31d6d0a7",
   "metadata": {},
   "outputs": [
    {
     "name": "stdout",
     "output_type": "stream",
     "text": [
      "P\n",
      "r\n",
      "a\n",
      "c\n",
      "h\n",
      "i\n"
     ]
    }
   ],
   "source": [
    "s = 'Prachi'\n",
    "for i in s:\n",
    "    print(i)"
   ]
  },
  {
   "cell_type": "code",
   "execution_count": 6,
   "id": "15e0b3a4",
   "metadata": {},
   "outputs": [
    {
     "name": "stdout",
     "output_type": "stream",
     "text": [
      "1\n",
      "2\n",
      "3\n",
      "4\n",
      "p\n",
      "k\n",
      "4.5\n",
      "for loop completed now w can execute else\n"
     ]
    }
   ],
   "source": [
    "for i in l:\n",
    "    print(i)\n",
    "else:\n",
    "    print(\"for loop completed now we can execute else\")"
   ]
  },
  {
   "cell_type": "code",
   "execution_count": 7,
   "id": "5e2743fc",
   "metadata": {},
   "outputs": [
    {
     "name": "stdout",
     "output_type": "stream",
     "text": [
      "1\n",
      "2\n",
      "3\n"
     ]
    }
   ],
   "source": [
    "for i in l:\n",
    "    if i == 4:\n",
    "        break\n",
    "    print(i)\n",
    "else:\n",
    "    print(\"for loop completed now we can execute else\")"
   ]
  },
  {
   "cell_type": "code",
   "execution_count": 8,
   "id": "0f23b69c",
   "metadata": {},
   "outputs": [
    {
     "name": "stdout",
     "output_type": "stream",
     "text": [
      "p\n",
      "r\n",
      "a\n"
     ]
    }
   ],
   "source": [
    "n='prachi'\n",
    "for i in n:\n",
    "    if i == 'c':\n",
    "        break\n",
    "    print(i)"
   ]
  },
  {
   "cell_type": "code",
   "execution_count": 10,
   "id": "84ff4759",
   "metadata": {},
   "outputs": [],
   "source": [
    "t = (3,4,5,6,8,'prachi')"
   ]
  },
  {
   "cell_type": "code",
   "execution_count": 11,
   "id": "96a5b189",
   "metadata": {},
   "outputs": [
    {
     "name": "stdout",
     "output_type": "stream",
     "text": [
      "3\n",
      "4\n",
      "5\n",
      "6\n",
      "8\n",
      "prachi\n"
     ]
    }
   ],
   "source": [
    "for i in t:\n",
    "    print(i)"
   ]
  },
  {
   "cell_type": "code",
   "execution_count": 13,
   "id": "655773ec",
   "metadata": {},
   "outputs": [],
   "source": [
    "s ={6,2,4,5,7,3,6,'p'}"
   ]
  },
  {
   "cell_type": "code",
   "execution_count": 14,
   "id": "87c54c83",
   "metadata": {},
   "outputs": [
    {
     "name": "stdout",
     "output_type": "stream",
     "text": [
      "2\n",
      "3\n",
      "4\n",
      "5\n",
      "6\n",
      "7\n",
      "p\n"
     ]
    }
   ],
   "source": [
    "for i in s:\n",
    "    print(i)"
   ]
  },
  {
   "cell_type": "code",
   "execution_count": 15,
   "id": "ebef1abc",
   "metadata": {},
   "outputs": [],
   "source": [
    "d = {'key1':'p','key2':'r','key3':'a'}"
   ]
  },
  {
   "cell_type": "code",
   "execution_count": 16,
   "id": "13db2512",
   "metadata": {},
   "outputs": [
    {
     "name": "stdout",
     "output_type": "stream",
     "text": [
      "key1\n",
      "key2\n",
      "key3\n"
     ]
    }
   ],
   "source": [
    "for i in d:\n",
    "    print(i)"
   ]
  },
  {
   "cell_type": "code",
   "execution_count": 17,
   "id": "32eb066b",
   "metadata": {},
   "outputs": [
    {
     "name": "stdout",
     "output_type": "stream",
     "text": [
      "p\n",
      "r\n",
      "a\n"
     ]
    }
   ],
   "source": [
    "for i in d:\n",
    "    print(d[i])"
   ]
  },
  {
   "cell_type": "code",
   "execution_count": 19,
   "id": "cb842a56",
   "metadata": {},
   "outputs": [
    {
     "name": "stdout",
     "output_type": "stream",
     "text": [
      "key1  :  p\n",
      "key2  :  r\n",
      "key3  :  a\n"
     ]
    }
   ],
   "source": [
    "for i in d:\n",
    "    print(i , ' : ' ,d[i])"
   ]
  },
  {
   "cell_type": "code",
   "execution_count": 21,
   "id": "b80c72d6",
   "metadata": {},
   "outputs": [
    {
     "data": {
      "text/plain": [
       "[0, 1, 2, 3, 4, 5, 6, 7, 8]"
      ]
     },
     "execution_count": 21,
     "metadata": {},
     "output_type": "execute_result"
    }
   ],
   "source": [
    "list(range(9))"
   ]
  },
  {
   "cell_type": "code",
   "execution_count": 23,
   "id": "a599469f",
   "metadata": {},
   "outputs": [
    {
     "name": "stdout",
     "output_type": "stream",
     "text": [
      "0\n",
      "1\n",
      "2\n",
      "3\n",
      "4\n",
      "5\n",
      "6\n",
      "7\n",
      "8\n"
     ]
    }
   ],
   "source": [
    "for i in range(9):\n",
    "    print(i)\n",
    "    "
   ]
  },
  {
   "cell_type": "code",
   "execution_count": 24,
   "id": "8d3f563d",
   "metadata": {},
   "outputs": [
    {
     "data": {
      "text/plain": [
       "[0, 2, 4, 6, 8]"
      ]
     },
     "execution_count": 24,
     "metadata": {},
     "output_type": "execute_result"
    }
   ],
   "source": [
    "list(range(0,9,2))"
   ]
  },
  {
   "cell_type": "code",
   "execution_count": 25,
   "id": "f3dce50b",
   "metadata": {},
   "outputs": [
    {
     "data": {
      "text/plain": [
       "[]"
      ]
     },
     "execution_count": 25,
     "metadata": {},
     "output_type": "execute_result"
    }
   ],
   "source": [
    "list(range(0,9,-1))"
   ]
  },
  {
   "cell_type": "code",
   "execution_count": 26,
   "id": "3d1b2be2",
   "metadata": {},
   "outputs": [
    {
     "name": "stdout",
     "output_type": "stream",
     "text": [
      "prachi \n",
      "\n",
      "prachi prachi \n",
      "\n",
      "prachi prachi prachi \n",
      "\n",
      "prachi prachi prachi prachi \n",
      "\n"
     ]
    }
   ],
   "source": [
    "n=4\n",
    "for i in range(n):\n",
    "    for j in range(0,i+1):\n",
    "        print('prachi', end=' ')\n",
    "    print(\"\\n\")"
   ]
  },
  {
   "cell_type": "code",
   "execution_count": 46,
   "id": "d4e8f7f2",
   "metadata": {},
   "outputs": [
    {
     "name": "stdout",
     "output_type": "stream",
     "text": [
      "          prachi \n",
      "\n",
      "       prachi prachi \n",
      "\n",
      "    prachi prachi prachi \n",
      "\n",
      " prachi prachi prachi prachi \n",
      "\n"
     ]
    }
   ],
   "source": [
    "n=4\n",
    "k=n\n",
    "\n",
    "for i in range(n):\n",
    "    k=k-1\n",
    "    print('   '*k,end =' ')\n",
    "    for j in range(i+1):\n",
    "        print('prachi',end=' ')\n",
    "    print(\"\\n\")\n",
    "        \n",
    "        \n",
    "        "
   ]
  },
  {
   "cell_type": "code",
   "execution_count": 45,
   "id": "1036dd85",
   "metadata": {},
   "outputs": [
    {
     "name": "stdout",
     "output_type": "stream",
     "text": [
      "              prachi \n",
      "\n",
      "       prachi prachi prachi \n",
      "\n",
      "prachi prachi prachi prachi prachi \n",
      "\n"
     ]
    }
   ],
   "source": [
    "n=3\n",
    "for i in range(n):\n",
    "    for j in range(i,n-1):\n",
    "        print(' '*len('prachi'),end=' ')\n",
    "    for j in range(i+1):\n",
    "        print('prachi',end=' ')\n",
    "    for j in range(i):\n",
    "        print(\"prachi\",end=\" \")\n",
    "    print(\"\\n\")\n"
   ]
  },
  {
   "cell_type": "code",
   "execution_count": 47,
   "id": "84dc665a",
   "metadata": {},
   "outputs": [],
   "source": [
    "t=(3,23,45,67,2,4,5,6)"
   ]
  },
  {
   "cell_type": "code",
   "execution_count": 52,
   "id": "8c58f8d3",
   "metadata": {},
   "outputs": [
    {
     "name": "stdout",
     "output_type": "stream",
     "text": [
      "0  :  3\n",
      "1  :  23\n",
      "2  :  45\n",
      "3  :  67\n",
      "4  :  2\n",
      "5  :  4\n",
      "6  :  5\n",
      "7  :  6\n"
     ]
    }
   ],
   "source": [
    "for i in range(len(t)):\n",
    "    print(i,' : ',t[i])"
   ]
  },
  {
   "cell_type": "code",
   "execution_count": 68,
   "id": "9c355341",
   "metadata": {},
   "outputs": [
    {
     "name": "stdout",
     "output_type": "stream",
     "text": [
      "0 : i\n",
      "1 : n\n",
      "2 : e\n",
      "3 : u\n",
      "4 : r\n",
      "5 : o\n",
      "6 : n\n"
     ]
    }
   ],
   "source": [
    "s='ineuron'\n",
    "for i in range(len(s)):\n",
    "    print(i ,':',s[i])"
   ]
  },
  {
   "cell_type": "code",
   "execution_count": 70,
   "id": "3b4a9fd3",
   "metadata": {},
   "outputs": [
    {
     "name": "stdout",
     "output_type": "stream",
     "text": [
      "6 : n\n",
      "5 : o\n",
      "4 : r\n",
      "3 : u\n",
      "2 : e\n",
      "1 : n\n",
      "0 : i\n"
     ]
    }
   ],
   "source": [
    "s='ineuron'\n",
    "for i in range(len(s)-1,-1,-1):\n",
    "    print(i ,':',s[i])"
   ]
  },
  {
   "cell_type": "code",
   "execution_count": 71,
   "id": "6d7c3aae",
   "metadata": {},
   "outputs": [
    {
     "data": {
      "text/plain": [
       "{'key1': 'p', 'key2': 'r', 'key3': 'a'}"
      ]
     },
     "execution_count": 71,
     "metadata": {},
     "output_type": "execute_result"
    }
   ],
   "source": [
    "d"
   ]
  },
  {
   "cell_type": "code",
   "execution_count": 74,
   "id": "bb1b238c",
   "metadata": {},
   "outputs": [
    {
     "name": "stdout",
     "output_type": "stream",
     "text": [
      "('key1', 'p') <class 'tuple'> <class 'str'>\n",
      "('key2', 'r') <class 'tuple'> <class 'str'>\n",
      "('key3', 'a') <class 'tuple'> <class 'str'>\n"
     ]
    }
   ],
   "source": [
    "for i in d.items():\n",
    "    print(i, type(i),type(i[1]))\n",
    "    "
   ]
  },
  {
   "cell_type": "code",
   "execution_count": 75,
   "id": "c30d65ac",
   "metadata": {},
   "outputs": [],
   "source": [
    "l= ['prachi','kabra',3234,'prchik.ai',345,345678]"
   ]
  },
  {
   "cell_type": "code",
   "execution_count": 81,
   "id": "a03721ad",
   "metadata": {},
   "outputs": [],
   "source": [
    "l1 =[]\n",
    "for i in l:\n",
    "    if type(i)==int:\n",
    "        l1.append(i)\n",
    "        \n"
   ]
  },
  {
   "cell_type": "code",
   "execution_count": 79,
   "id": "b7d90006",
   "metadata": {},
   "outputs": [
    {
     "data": {
      "text/plain": [
       "[3234, 345, 345678]"
      ]
     },
     "execution_count": 79,
     "metadata": {},
     "output_type": "execute_result"
    }
   ],
   "source": [
    "l1"
   ]
  },
  {
   "cell_type": "code",
   "execution_count": 84,
   "id": "eae6bbac",
   "metadata": {},
   "outputs": [],
   "source": [
    "d={1:4555,\"name\":\"prachi\",\"email\":\"pk123\",234:\"yhhh\"}"
   ]
  },
  {
   "cell_type": "code",
   "execution_count": 89,
   "id": "5a54638b",
   "metadata": {},
   "outputs": [
    {
     "name": "stdout",
     "output_type": "stream",
     "text": [
      "1 : 4555\n",
      "234 : yhhh\n"
     ]
    }
   ],
   "source": [
    "d1={}\n",
    "for i in d:\n",
    "    if type(i)==int:\n",
    "        print(i,':',d[i])"
   ]
  },
  {
   "cell_type": "code",
   "execution_count": 97,
   "id": "eef7f86e",
   "metadata": {},
   "outputs": [
    {
     "name": "stdout",
     "output_type": "stream",
     "text": [
      "j : 4\n",
      "t : 4\n",
      "a : 4\n",
      "h : 3\n",
      "d : 1\n"
     ]
    }
   ],
   "source": [
    "x='aaaahhhttttjjjjd'\n",
    "for i in set(x):\n",
    "    print(i,\":\",x.count(i))"
   ]
  },
  {
   "cell_type": "code",
   "execution_count": 98,
   "id": "3b849dfe",
   "metadata": {},
   "outputs": [
    {
     "name": "stdout",
     "output_type": "stream",
     "text": [
      "j : 4\n",
      "f : 3\n",
      "g : 2\n",
      "n : 1\n",
      "s : 4\n",
      "b : 2\n",
      "h : 2\n",
      "r : 2\n"
     ]
    }
   ],
   "source": [
    "x1='rrfhjfsfhgbsbjjsjnsg'\n",
    "for i in set(x1):\n",
    "    print(i ,':',x1.count(i))"
   ]
  },
  {
   "cell_type": "code",
   "execution_count": 102,
   "id": "1ae28610",
   "metadata": {},
   "outputs": [
    {
     "name": "stdout",
     "output_type": "stream",
     "text": [
      "3 : <class 'int'>\n",
      "4 : <class 'int'>\n",
      "5 : <class 'int'>\n",
      "6 : <class 'int'>\n",
      "7 : <class 'int'>\n",
      "8 : <class 'int'>\n",
      "9 : <class 'int'>\n",
      "9 : <class 'int'>\n",
      "0 : <class 'int'>\n",
      "0 : <class 'int'>\n",
      "0 : <class 'int'>\n"
     ]
    }
   ],
   "source": [
    "i=34567899000\n",
    "for j in str(i):\n",
    "    print(j,':',type(int(j)))"
   ]
  },
  {
   "cell_type": "code",
   "execution_count": 7,
   "id": "cbec0ebb",
   "metadata": {},
   "outputs": [],
   "source": [
    "t =('sudh','kumar',[1,2,3,4,5],(1,2,3,4),{'k2':'kumar',3:3})"
   ]
  },
  {
   "cell_type": "code",
   "execution_count": 8,
   "id": "7f5fbccf",
   "metadata": {},
   "outputs": [
    {
     "name": "stdout",
     "output_type": "stream",
     "text": [
      "sudh\n",
      "kumar\n",
      "[1, 2, 3, 4, 5]\n",
      "(1, 2, 3, 4)\n",
      "{'k2': 'kumar', 3: 3}\n"
     ]
    }
   ],
   "source": [
    "for i in t:\n",
    "        print(i)"
   ]
  },
  {
   "cell_type": "code",
   "execution_count": 16,
   "id": "006f11fb",
   "metadata": {},
   "outputs": [
    {
     "name": "stdout",
     "output_type": "stream",
     "text": [
      "3\n",
      "3\n",
      "3\n",
      "3\n"
     ]
    }
   ],
   "source": [
    "for i in t:\n",
    "    if type(i)==list or type(i)==tuple:\n",
    "        for j in i:\n",
    "            if j ==3:\n",
    "                print(j )\n",
    "    if type(i)==dict:\n",
    "        for k,v in i.items():\n",
    "            if k==3 or v==3:\n",
    "                print(k)\n",
    "                print(v)\n",
    "                "
   ]
  },
  {
   "cell_type": "code",
   "execution_count": 17,
   "id": "ced6f738",
   "metadata": {},
   "outputs": [],
   "source": [
    "d={4:5,'k1':'sudh','k2':'kumar'}"
   ]
  },
  {
   "cell_type": "code",
   "execution_count": 18,
   "id": "ad7dc382",
   "metadata": {},
   "outputs": [
    {
     "data": {
      "text/plain": [
       "dict_items([(4, 5), ('k1', 'sudh'), ('k2', 'kumar')])"
      ]
     },
     "execution_count": 18,
     "metadata": {},
     "output_type": "execute_result"
    }
   ],
   "source": [
    "d.items()"
   ]
  },
  {
   "cell_type": "code",
   "execution_count": 19,
   "id": "6eabdc27",
   "metadata": {},
   "outputs": [
    {
     "name": "stdout",
     "output_type": "stream",
     "text": [
      "4 : 5\n",
      "k1 : sudh\n",
      "k2 : kumar\n"
     ]
    }
   ],
   "source": [
    "for i ,j in d.items():\n",
    "    print(i,':',j)"
   ]
  },
  {
   "cell_type": "code",
   "execution_count": null,
   "id": "917b39ce",
   "metadata": {},
   "outputs": [],
   "source": [
    "Q1. print \n",
    "inueron\n",
    "inueron inueron\n",
    "inueron inueron inueron\n",
    "inueron inueron inueron inueron\n",
    "\n",
    "Q2. print\n",
    "       inueron\n",
    "    inueron  inueron\n",
    "inueron   inueron    inueron\n",
    "    inueron     inueron\n",
    "           inueron\n",
    "        \n",
    "        \n",
    "Q3.\n",
    "l =[[1,2,3,4],(2,3,4,5,6),set([23,4,5,45,54,4,4,5,5]),{'k1':'sudh','k2':'inueron','k3':'kumar',5:6,7:8},['inueron','data science']]\n",
    "\n",
    "1: \n",
    "2:\n",
    "3: \n",
    "4:\n",
    "6:\n",
    "\n",
    "8; \n",
    "\n",
    "9: try to find number or keys in dict elements\n",
    "10:try to filter all string data\n",
    "11:try to find out alpha num in data\n",
    "12:try to find out multiplication of all int value in the individual collection inside dataset\n",
    "13: try to unrape all the collection inside collection and create a flat list"
   ]
  },
  {
   "cell_type": "code",
   "execution_count": 215,
   "id": "31d61a2a",
   "metadata": {},
   "outputs": [
    {
     "name": "stdout",
     "output_type": "stream",
     "text": [
      "[1, 2, 3, 4] 24\n",
      "(2, 3, 4, 5, 6) 720\n",
      "{4, 5, 45, 54, 23} 1117800\n",
      "['inueron', 'data science'] 1\n"
     ]
    }
   ],
   "source": [
    "for i in l:\n",
    "    if isinstance(i, (list, tuple, set)):\n",
    "        mul = 1\n",
    "        for j in i:\n",
    "            if isinstance(j, int):\n",
    "                mul *= j\n",
    "        print(i, mul)"
   ]
  },
  {
   "cell_type": "code",
   "execution_count": 207,
   "id": "c3cbf8e9",
   "metadata": {},
   "outputs": [
    {
     "name": "stdout",
     "output_type": "stream",
     "text": [
      "1\n",
      "2\n",
      "6\n",
      "24\n",
      "48\n",
      "144\n",
      "576\n",
      "2880\n",
      "17280\n",
      "69120\n",
      "345600\n",
      "15552000\n",
      "839808000\n",
      "19315584000\n"
     ]
    }
   ],
   "source": [
    "#try to find out multiplication of all int value in the individual collection inside dataset\n",
    "mul=1\n",
    "for i in l:\n",
    "    if type(i)==list or type(i)==tuple or type(i)==set:\n",
    "        for j in i:\n",
    "            if type(j)==int:\n",
    "                mul=mul*j\n",
    "                print(mul)\n",
    "                \n"
   ]
  },
  {
   "cell_type": "code",
   "execution_count": null,
   "id": "40228c7a",
   "metadata": {},
   "outputs": [],
   "source": []
  },
  {
   "cell_type": "code",
   "execution_count": 188,
   "id": "1cb4509e",
   "metadata": {},
   "outputs": [
    {
     "name": "stdout",
     "output_type": "stream",
     "text": [
      "1\n",
      "2\n",
      "3\n",
      "4\n",
      "2\n",
      "3\n",
      "4\n",
      "5\n",
      "6\n",
      "4\n",
      "5\n",
      "45\n",
      "54\n",
      "23\n",
      "k1\n",
      "sudh\n",
      "k2\n",
      "inueron\n",
      "k3\n",
      "kumar\n",
      "5\n",
      "6\n",
      "7\n",
      "8\n"
     ]
    }
   ],
   "source": [
    "#try to find out alpha num in data\n",
    "for i in l3:\n",
    "    if type(i)==str or type(i)==int:\n",
    "        print(i)"
   ]
  },
  {
   "cell_type": "code",
   "execution_count": 180,
   "id": "93631850",
   "metadata": {},
   "outputs": [
    {
     "name": "stdout",
     "output_type": "stream",
     "text": [
      "k1\n",
      "sudh\n",
      "k2\n",
      "inueron\n",
      "k3\n",
      "kumar\n",
      "inueron\n",
      "data science\n"
     ]
    }
   ],
   "source": [
    "#try to filter all string data\n",
    "for i in l:\n",
    "    if type(i)==list or type(i)==tuple or type(i)==set:\n",
    "        for j in i:\n",
    "            if type(j)==str:\n",
    "                print(j)\n",
    "    if type(i)==dict:\n",
    "        for k,v in i.items():\n",
    "            if type(k)==str or type(v)==str:\n",
    "                print(k)\n",
    "                print(v)"
   ]
  },
  {
   "cell_type": "code",
   "execution_count": 176,
   "id": "c8c9eebf",
   "metadata": {},
   "outputs": [
    {
     "name": "stdout",
     "output_type": "stream",
     "text": [
      "k1\n",
      "k2\n",
      "k3\n",
      "5\n",
      "7\n"
     ]
    }
   ],
   "source": [
    "# try to find number or keys in dict elements\n",
    "for i in l:\n",
    "    if type(i)==dict:\n",
    "        for k,v in i.items():\n",
    "            print(k)\n",
    "    "
   ]
  },
  {
   "cell_type": "code",
   "execution_count": 24,
   "id": "8fc667c1",
   "metadata": {},
   "outputs": [
    {
     "name": "stdout",
     "output_type": "stream",
     "text": [
      "inueron \n",
      "\n",
      "inueron inueron \n",
      "\n",
      "inueron inueron inueron \n",
      "\n",
      "inueron inueron inueron inueron \n",
      "\n"
     ]
    }
   ],
   "source": [
    "n=4\n",
    "for i in range(n):\n",
    "    for j in range(0,i+1):\n",
    "        print('inueron',end=' ')\n",
    "    print('\\n')"
   ]
  },
  {
   "cell_type": "code",
   "execution_count": 27,
   "id": "c5f114a8",
   "metadata": {},
   "outputs": [
    {
     "name": "stdout",
     "output_type": "stream",
     "text": [
      "inueron \n",
      "\n",
      "inueron inueron \n",
      "\n",
      "inueron inueron inueron \n",
      "\n",
      "inueron inueron inueron inueron \n",
      "\n"
     ]
    }
   ],
   "source": [
    "n=5\n",
    "for i in range(0,i+1):\n",
    "    for j in range(0,i+1):\n",
    "        print('inueron',end=' ')\n",
    "    print('\\n')\n",
    "    "
   ]
  },
  {
   "cell_type": "code",
   "execution_count": 112,
   "id": "6cd2840e",
   "metadata": {},
   "outputs": [
    {
     "name": "stdout",
     "output_type": "stream",
     "text": [
      "      inueron \n",
      "   inueron inueron \n",
      "inueron inueron inueron \n",
      "    inueron inueron \n",
      "        inueron \n"
     ]
    }
   ],
   "source": [
    "n=3\n",
    "for i in range(n):\n",
    "    print('   '*(n-i-1)+'inueron '*(i+1))\n",
    "    \n",
    "for j in range(n-1,0,-1):\n",
    "    print('    '*(n-j)+'inueron '*(j))\n",
    "\n"
   ]
  },
  {
   "cell_type": "code",
   "execution_count": 209,
   "id": "4eafc260",
   "metadata": {},
   "outputs": [],
   "source": [
    "l =[[1,2,3,4],(2,3,4,5,6),set([23,4,5,45,54,4,4,5,5]),{'k1':'sudh','k2':'inueron','k3':'kumar',5:6,7:8},['inueron','data science']]\n"
   ]
  },
  {
   "cell_type": "code",
   "execution_count": 114,
   "id": "4cf2f04e",
   "metadata": {},
   "outputs": [
    {
     "data": {
      "text/plain": [
       "[[1, 2, 3, 4],\n",
       " (2, 3, 4, 5, 6),\n",
       " {4, 5, 23, 45, 54},\n",
       " {'k1': 'sudh', 'k2': 'inueron', 'k3': 'kumar', 5: 6, 7: 8},\n",
       " ['inueron', 'data science']]"
      ]
     },
     "execution_count": 114,
     "metadata": {},
     "output_type": "execute_result"
    }
   ],
   "source": [
    "l"
   ]
  },
  {
   "cell_type": "code",
   "execution_count": 122,
   "id": "b1d8ab8b",
   "metadata": {},
   "outputs": [],
   "source": [
    "#try to extract all the list entit\n",
    "l2=[]\n",
    "for i in l:\n",
    "    if type(i)== list:\n",
    "        l2.append(i)\n",
    "        \n",
    "    "
   ]
  },
  {
   "cell_type": "code",
   "execution_count": 123,
   "id": "9f7e117e",
   "metadata": {},
   "outputs": [
    {
     "data": {
      "text/plain": [
       "[[1, 2, 3, 4], ['inueron', 'data science']]"
      ]
     },
     "execution_count": 123,
     "metadata": {},
     "output_type": "execute_result"
    }
   ],
   "source": [
    "l2"
   ]
  },
  {
   "cell_type": "code",
   "execution_count": 124,
   "id": "2cbdd38e",
   "metadata": {},
   "outputs": [
    {
     "name": "stdout",
     "output_type": "stream",
     "text": [
      "{'k1': 'sudh', 'k2': 'inueron', 'k3': 'kumar', 5: 6, 7: 8}\n"
     ]
    }
   ],
   "source": [
    "#try to extract all the dict\n",
    "for i in l:\n",
    "    if type(i)== dict:\n",
    "        print(i)"
   ]
  },
  {
   "cell_type": "code",
   "execution_count": 125,
   "id": "d24465eb",
   "metadata": {},
   "outputs": [
    {
     "name": "stdout",
     "output_type": "stream",
     "text": [
      "(2, 3, 4, 5, 6)\n"
     ]
    }
   ],
   "source": [
    "#try to extract all tuple\n",
    "for i in l:\n",
    "    if type(i)== tuple:\n",
    "        print(i)"
   ]
  },
  {
   "cell_type": "code",
   "execution_count": 131,
   "id": "02d8149e",
   "metadata": {},
   "outputs": [
    {
     "name": "stdout",
     "output_type": "stream",
     "text": [
      "1\n",
      "2\n",
      "3\n",
      "4\n",
      "2\n",
      "3\n",
      "4\n",
      "5\n",
      "6\n",
      "4\n",
      "5\n",
      "45\n",
      "54\n",
      "23\n",
      "5\n",
      "6\n",
      "7\n",
      "8\n"
     ]
    }
   ],
   "source": [
    "#try to extract int it may be a part of dict key and value\n",
    "for i in l:\n",
    "    if type(i)==list or type(i)==tuple or type(i)==set:\n",
    "        for j in i:\n",
    "            if type(j)==int:\n",
    "                print(j)\n",
    "    if type(i)==dict:\n",
    "        for t,v in i.items():\n",
    "            if type(t)==int or type(v)==int:\n",
    "                print(t)\n",
    "                print(v)\n",
    "    "
   ]
  },
  {
   "cell_type": "code",
   "execution_count": 151,
   "id": "cbea24eb",
   "metadata": {},
   "outputs": [
    {
     "name": "stdout",
     "output_type": "stream",
     "text": [
      "1\n",
      "2\n",
      "3\n",
      "4\n",
      "2\n",
      "3\n",
      "4\n",
      "5\n",
      "6\n",
      "4\n",
      "5\n",
      "45\n",
      "54\n",
      "23\n",
      "5\n",
      "7\n"
     ]
    }
   ],
   "source": [
    "l3=[]\n",
    "for i in l:\n",
    "    if type(i)==list or type(i)==tuple or type(i)==set:\n",
    "        for j in i:\n",
    "            if type(j)==int:\n",
    "                print(j)\n",
    "                l3.append(j)\n",
    "    if type(i)==dict:\n",
    "        for t,v in i.items():\n",
    "            if type(t)==int or type(v)==int:\n",
    "                print(t)\n",
    "                print(v)\n",
    "                l3.append(t)\n",
    "                l3.append(v)\n",
    "    "
   ]
  },
  {
   "cell_type": "code",
   "execution_count": 143,
   "id": "5b6561f1",
   "metadata": {},
   "outputs": [
    {
     "data": {
      "text/plain": [
       "[1, 2, 3, 4, 2, 3, 4, 5, 6, 4, 5, 45, 54, 23, 5, 6, 7, 8]"
      ]
     },
     "execution_count": 143,
     "metadata": {},
     "output_type": "execute_result"
    }
   ],
   "source": [
    "l3"
   ]
  },
  {
   "cell_type": "code",
   "execution_count": 145,
   "id": "b71dfe07",
   "metadata": {},
   "outputs": [
    {
     "name": "stdout",
     "output_type": "stream",
     "text": [
      "187\n"
     ]
    }
   ],
   "source": [
    "#try to give summation of all the int\n",
    "sum=0\n",
    "for i in l3:\n",
    "    sum+=i\n",
    "print(sum)\n",
    "    "
   ]
  },
  {
   "cell_type": "code",
   "execution_count": 146,
   "id": "173e393b",
   "metadata": {},
   "outputs": [
    {
     "name": "stdout",
     "output_type": "stream",
     "text": [
      "1\n",
      "3\n",
      "3\n",
      "5\n",
      "5\n",
      "45\n",
      "23\n",
      "5\n",
      "7\n"
     ]
    }
   ],
   "source": [
    "#try to filter out all the odd values out all numeric data which is a part of list\n",
    "for i in l3:\n",
    "    if i%2!=0:\n",
    "        print(i)\n",
    "    "
   ]
  },
  {
   "cell_type": "code",
   "execution_count": 157,
   "id": "f3301af4",
   "metadata": {},
   "outputs": [
    {
     "name": "stdout",
     "output_type": "stream",
     "text": [
      "inueron\n",
      "inueron\n"
     ]
    }
   ],
   "source": [
    "#try to extract 'inueron' from this data\n",
    "for i in l:\n",
    "    if type(i)==list or type(i)==tuple or type(i)==set:\n",
    "        for j in i:\n",
    "            if j == 'inueron':\n",
    "                print(j)\n",
    "    if type(i)==dict:\n",
    "        for k,v in i.items():\n",
    "            if k=='inueron' :\n",
    "                print(k)\n",
    "                \n",
    "            elif v=='inueron':\n",
    "                print(v)\n",
    "    "
   ]
  },
  {
   "cell_type": "code",
   "execution_count": 158,
   "id": "bc7d5773",
   "metadata": {},
   "outputs": [
    {
     "name": "stdout",
     "output_type": "stream",
     "text": [
      "1\n",
      "2\n",
      "3\n",
      "4\n",
      "2\n",
      "3\n",
      "4\n",
      "5\n",
      "6\n",
      "4\n",
      "5\n",
      "45\n",
      "54\n",
      "23\n",
      "k1\n",
      "sudh\n",
      "k2\n",
      "inueron\n",
      "k3\n",
      "kumar\n",
      "5\n",
      "6\n",
      "7\n",
      "8\n"
     ]
    }
   ],
   "source": [
    "l3=[]\n",
    "for i in l:\n",
    "    if type(i)==list or type(i)==tuple or type(i)==set:\n",
    "        for j in i:\n",
    "            if type(j)==int:\n",
    "                print(j)\n",
    "                l3.append(j)\n",
    "    if type(i)==dict:\n",
    "        for t,v in i.items():\n",
    "                print(t)\n",
    "                print(v)\n",
    "                l3.append(t)\n",
    "                l3.append(v)"
   ]
  },
  {
   "cell_type": "code",
   "execution_count": 168,
   "id": "36974067",
   "metadata": {},
   "outputs": [
    {
     "name": "stdout",
     "output_type": "stream",
     "text": [
      "1 1\n",
      "2 1\n",
      "3 1\n",
      "4 1\n",
      "2 1\n",
      "3 1\n",
      "4 1\n",
      "5 1\n",
      "6 1\n",
      "4 1\n",
      "5 1\n",
      "45 1\n",
      "54 1\n",
      "23 1\n",
      "k1 1\n",
      "k2 1\n",
      "k3 1\n",
      "5 1\n",
      "7 1\n",
      "inueron 1\n",
      "data science 1\n"
     ]
    }
   ],
   "source": [
    "for i in l:\n",
    "    if type(i)==list or type(i)==tuple or type(i)==set or type(i)== dict:\n",
    "        for j in i:\n",
    "                print(j,l.count(i))\n",
    "   "
   ]
  },
  {
   "cell_type": "code",
   "execution_count": 208,
   "id": "30786227",
   "metadata": {},
   "outputs": [
    {
     "data": {
      "text/plain": [
       "[[1, 2, 3, 4],\n",
       " (2, 3, 4, 5, 6),\n",
       " {4, 5, 23, 45, 54},\n",
       " {'k1': 'sudh', 'k2': 'inueron', 'k3': 'kumar', 5: 6, 7: 8},\n",
       " ['inueron', 'data science']]"
      ]
     },
     "execution_count": 208,
     "metadata": {},
     "output_type": "execute_result"
    }
   ],
   "source": [
    "l"
   ]
  },
  {
   "cell_type": "code",
   "execution_count": 216,
   "id": "9c3196e4",
   "metadata": {},
   "outputs": [
    {
     "name": "stdout",
     "output_type": "stream",
     "text": [
      "[1, 2, 3, 4] 1\n",
      "(2, 3, 4, 5, 6) 1\n",
      "{4, 5, 45, 54, 23} 1\n",
      "{'k1': 'sudh', 'k2': 'inueron', 'k3': 'kumar', 5: 6, 7: 8} 1\n",
      "['inueron', 'data science'] 1\n"
     ]
    }
   ],
   "source": [
    "# try to find out the number of occurances of all data\n",
    "for i in l:\n",
    "    j = l.count(i)\n",
    "    print(i, j)\n",
    "    "
   ]
  },
  {
   "cell_type": "code",
   "execution_count": 159,
   "id": "2d421323",
   "metadata": {},
   "outputs": [
    {
     "data": {
      "text/plain": [
       "[1,\n",
       " 2,\n",
       " 3,\n",
       " 4,\n",
       " 2,\n",
       " 3,\n",
       " 4,\n",
       " 5,\n",
       " 6,\n",
       " 4,\n",
       " 5,\n",
       " 45,\n",
       " 54,\n",
       " 23,\n",
       " 'k1',\n",
       " 'sudh',\n",
       " 'k2',\n",
       " 'inueron',\n",
       " 'k3',\n",
       " 'kumar',\n",
       " 5,\n",
       " 6,\n",
       " 7,\n",
       " 8]"
      ]
     },
     "execution_count": 159,
     "metadata": {},
     "output_type": "execute_result"
    }
   ],
   "source": [
    "l3"
   ]
  },
  {
   "cell_type": "code",
   "execution_count": 128,
   "id": "21cc7f5b",
   "metadata": {},
   "outputs": [
    {
     "name": "stdout",
     "output_type": "stream",
     "text": [
      "*   *   *   *   *   \n",
      "\n",
      "*   *   *   *   *   \n",
      "\n",
      "*   *   *   *   *   \n",
      "\n",
      "*   *   *   *   *   \n",
      "\n",
      "*   *   *   *   *   \n",
      "\n"
     ]
    }
   ],
   "source": [
    "n=5\n",
    "for i in range(n):\n",
    "    for j in range(n):\n",
    "        print('*',end='   ')\n",
    "    print(\"\\n\")"
   ]
  },
  {
   "cell_type": "code",
   "execution_count": 38,
   "id": "a5895936",
   "metadata": {},
   "outputs": [
    {
     "name": "stdout",
     "output_type": "stream",
     "text": [
      "*   \n",
      "\n",
      "*   *   \n",
      "\n",
      "*   *   *   \n",
      "\n",
      "*   *   *   *   \n",
      "\n",
      "*   *   *   *   *   \n",
      "\n"
     ]
    }
   ],
   "source": [
    "n=5\n",
    "for i in range(n):\n",
    "    for j in range(0,i+1):\n",
    "        print('*',end='   ')\n",
    "    print('\\n')"
   ]
  },
  {
   "cell_type": "code",
   "execution_count": 43,
   "id": "15110728",
   "metadata": {},
   "outputs": [
    {
     "name": "stdout",
     "output_type": "stream",
     "text": [
      "*   *   *   *   *   \n",
      "\n",
      "*   *   *   *   \n",
      "\n",
      "*   *   *   \n",
      "\n",
      "*   *   \n",
      "\n",
      "*   \n",
      "\n"
     ]
    }
   ],
   "source": [
    "n=5\n",
    "for i in range(n):\n",
    "    for j in range(i,n):\n",
    "        print('*',end = '   ')\n",
    "    print('\\n')"
   ]
  },
  {
   "cell_type": "code",
   "execution_count": 71,
   "id": "e1a7b8b4",
   "metadata": {},
   "outputs": [
    {
     "name": "stdout",
     "output_type": "stream",
     "text": [
      "     *\n",
      "\n",
      "    **\n",
      "\n",
      "   ***\n",
      "\n",
      "  ****\n",
      "\n",
      " *****\n",
      "\n"
     ]
    }
   ],
   "source": [
    "n=5\n",
    "for i in range(n):\n",
    "    for j in range(i,n):\n",
    "        print('',end=' ')\n",
    "    for j in range(i+1):\n",
    "        print('*',end='')\n",
    "    print('\\n')"
   ]
  },
  {
   "cell_type": "code",
   "execution_count": 75,
   "id": "27259f8d",
   "metadata": {},
   "outputs": [
    {
     "name": "stdout",
     "output_type": "stream",
     "text": [
      " *****\n",
      "\n",
      "  ****\n",
      "\n",
      "   ***\n",
      "\n",
      "    **\n",
      "\n",
      "     *\n",
      "\n"
     ]
    }
   ],
   "source": [
    "n=5\n",
    "for i in range(n):\n",
    "    for j in range(0,i+1):\n",
    "        print(\"\",end=' ')\n",
    "    for j in range(i,n):\n",
    "        print('*',end='')\n",
    "    print('\\n')"
   ]
  },
  {
   "cell_type": "code",
   "execution_count": 79,
   "id": "632e82d6",
   "metadata": {
    "scrolled": true
   },
   "outputs": [
    {
     "name": "stdout",
     "output_type": "stream",
     "text": [
      "     *\n",
      "\n",
      "    ***\n",
      "\n",
      "   *****\n",
      "\n",
      "  *******\n",
      "\n",
      " *********\n",
      "\n"
     ]
    }
   ],
   "source": [
    "n=5\n",
    "for i in range(n):\n",
    "    for j in range(i,n):\n",
    "        print('',end=' ')\n",
    "    for j in range(i):\n",
    "        print('*',end='')\n",
    "    for j in range(i+1):\n",
    "        print('*',end='')\n",
    "    print('\\n')\n",
    "    "
   ]
  },
  {
   "cell_type": "code",
   "execution_count": 82,
   "id": "567cccae",
   "metadata": {},
   "outputs": [
    {
     "name": "stdout",
     "output_type": "stream",
     "text": [
      " *********\n",
      "\n",
      "  *******\n",
      "\n",
      "   *****\n",
      "\n",
      "    ***\n",
      "\n",
      "     *\n",
      "\n"
     ]
    }
   ],
   "source": [
    "n=5\n",
    "for i in range(n):\n",
    "    for j in range(i+1):\n",
    "        print('',end=' ')\n",
    "    for j in range(i,n-1):\n",
    "        print('*',end='')\n",
    "    for j in range(i,n):\n",
    "        print('*',end='')\n",
    "    print('\\n')\n",
    "    "
   ]
  },
  {
   "cell_type": "code",
   "execution_count": 88,
   "id": "eb95583e",
   "metadata": {},
   "outputs": [
    {
     "name": "stdout",
     "output_type": "stream",
     "text": [
      "          *\n",
      "\n",
      "         ***\n",
      "\n",
      "        *****\n",
      "\n",
      "       *******\n",
      "\n",
      "      *********\n",
      "\n",
      "     ***********\n",
      "\n",
      "    *************\n",
      "\n",
      "   ***************\n",
      "\n",
      "  *****************\n",
      "\n",
      " *******************\n",
      "\n",
      "  *****************\n",
      "\n",
      "   ***************\n",
      "\n",
      "    *************\n",
      "\n",
      "     ***********\n",
      "\n",
      "      *********\n",
      "\n",
      "       *******\n",
      "\n",
      "        *****\n",
      "\n",
      "         ***\n",
      "\n",
      "          *\n",
      "\n"
     ]
    }
   ],
   "source": [
    "n=10\n",
    "for i in range(n-1):\n",
    "    for j in range(i,n):\n",
    "        print('',end=' ')\n",
    "    for j in range(i):\n",
    "        print('*',end='')\n",
    "    for j in range(i+1):\n",
    "        print('*',end='')\n",
    "    print('\\n')\n",
    "for i in range(n):\n",
    "    for j in range(i+1):\n",
    "        print('',end=' ')\n",
    "    for j in range(i,n-1):\n",
    "        print('*',end='')\n",
    "    for j in range(i,n):\n",
    "        print('*',end='')\n",
    "    print('\\n')\n",
    "    \n",
    "    "
   ]
  },
  {
   "cell_type": "code",
   "execution_count": 218,
   "id": "e661345c",
   "metadata": {},
   "outputs": [
    {
     "name": "stdout",
     "output_type": "stream",
     "text": [
      "1 1\n",
      "2 2\n",
      "3 2\n",
      "4 3\n",
      "5 3\n",
      "6 1\n",
      "45 1\n",
      "54 1\n",
      "23 1\n",
      "k1 1\n",
      "k2 1\n",
      "k3 1\n",
      "7 1\n",
      "inueron 1\n",
      "data science 1\n"
     ]
    }
   ],
   "source": [
    "from collections import Counter\n",
    "\n",
    "l = [[1, 2, 3, 4], (2, 3, 4, 5, 6), set([23, 4, 5, 45, 54, 4, 4, 5, 5]), {'k1': 'sudh', 'k2': 'inueron', 'k3': 'kumar', 5: 6, 7: 8}, ['inueron', 'data science']]\n",
    "\n",
    "element_counts = Counter()\n",
    "\n",
    "for sublist in l:\n",
    "    if isinstance(sublist, (list, tuple, set)):\n",
    "        element_counts.update(sublist)\n",
    "    elif isinstance(sublist, dict):\n",
    "        element_counts.update(sublist.keys())\n",
    "\n",
    "for element, count in element_counts.items():\n",
    "    print(element, count)"
   ]
  },
  {
   "cell_type": "code",
   "execution_count": null,
   "id": "f8f8e562",
   "metadata": {},
   "outputs": [],
   "source": []
  }
 ],
 "metadata": {
  "kernelspec": {
   "display_name": "Python 3 (ipykernel)",
   "language": "python",
   "name": "python3"
  },
  "language_info": {
   "codemirror_mode": {
    "name": "ipython",
    "version": 3
   },
   "file_extension": ".py",
   "mimetype": "text/x-python",
   "name": "python",
   "nbconvert_exporter": "python",
   "pygments_lexer": "ipython3",
   "version": "3.10.9"
  }
 },
 "nbformat": 4,
 "nbformat_minor": 5
}
