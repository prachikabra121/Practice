{
 "cells": [
  {
   "cell_type": "code",
   "execution_count": 2,
   "id": "634df60b",
   "metadata": {},
   "outputs": [
    {
     "name": "stdout",
     "output_type": "stream",
     "text": [
      "1\n",
      "2\n",
      "3\n",
      "4\n",
      "5\n",
      "6\n",
      "7\n",
      "8\n",
      "9\n",
      "10\n"
     ]
    }
   ],
   "source": [
    "count = 1\n",
    "while count<=10:\n",
    "    print(count)\n",
    "    count = count+1"
   ]
  },
  {
   "cell_type": "code",
   "execution_count": 4,
   "id": "1857b5be",
   "metadata": {},
   "outputs": [
    {
     "name": "stdout",
     "output_type": "stream",
     "text": [
      "Enter a word(or enter quit to exit): today is sunday\n",
      "You enterd:  today is sunday\n",
      "Enter a word(or enter quit to exit): quit\n",
      "You enterd:  quit\n"
     ]
    }
   ],
   "source": [
    "text = \"\"\n",
    "\n",
    "while text != \"quit\":\n",
    "    text = input(\"Enter a word(or enter quit to exit): \")\n",
    "    print(\"You enterd: \", text)"
   ]
  },
  {
   "cell_type": "code",
   "execution_count": 11,
   "id": "0d5dcfd8",
   "metadata": {},
   "outputs": [
    {
     "name": "stdout",
     "output_type": "stream",
     "text": [
      "updated salary is: \n",
      "[40000, 45000, 30000, 50400.0]\n"
     ]
    }
   ],
   "source": [
    "names = [\"Alice\",\"Toe\",\"Merry\",\"James\"]\n",
    "salary =[40000,45000,30000,48000]\n",
    "#give 5% bonus james only as he is performing well\n",
    "\n",
    "#first sub-problem is we we have to iterate both list\n",
    "#2nd sub-problem is we need to upadte salary of james\n",
    "\n",
    "for i in range(len(names)):\n",
    "    if names[i]==\"James\":\n",
    "        increament = (salary[i]*0.05)\n",
    "        salary[i]+=increament\n",
    "print(\"updated salary is: \")\n",
    "print(salary)\n"
   ]
  },
  {
   "cell_type": "code",
   "execution_count": null,
   "id": "b9ed0dcd",
   "metadata": {},
   "outputs": [],
   "source": []
  }
 ],
 "metadata": {
  "kernelspec": {
   "display_name": "Python 3 (ipykernel)",
   "language": "python",
   "name": "python3"
  },
  "language_info": {
   "codemirror_mode": {
    "name": "ipython",
    "version": 3
   },
   "file_extension": ".py",
   "mimetype": "text/x-python",
   "name": "python",
   "nbconvert_exporter": "python",
   "pygments_lexer": "ipython3",
   "version": "3.10.9"
  }
 },
 "nbformat": 4,
 "nbformat_minor": 5
}
