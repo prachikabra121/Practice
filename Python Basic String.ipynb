{
 "cells": [
  {
   "cell_type": "code",
   "execution_count": 1,
   "id": "e10048f7",
   "metadata": {},
   "outputs": [],
   "source": [
    "s='Prachi' #we can use double course as well"
   ]
  },
  {
   "cell_type": "code",
   "execution_count": 2,
   "id": "841d6244",
   "metadata": {},
   "outputs": [
    {
     "data": {
      "text/plain": [
       "str"
      ]
     },
     "execution_count": 2,
     "metadata": {},
     "output_type": "execute_result"
    }
   ],
   "source": [
    "type(s) #type function is use to know the type of data like string or integer"
   ]
  },
  {
   "cell_type": "code",
   "execution_count": 3,
   "id": "859ac0a5",
   "metadata": {},
   "outputs": [
    {
     "data": {
      "text/plain": [
       "'P'"
      ]
     },
     "execution_count": 3,
     "metadata": {},
     "output_type": "execute_result"
    }
   ],
   "source": [
    "s[0] #index always start from 0"
   ]
  },
  {
   "cell_type": "code",
   "execution_count": 4,
   "id": "80333fa8",
   "metadata": {},
   "outputs": [
    {
     "data": {
      "text/plain": [
       "'h'"
      ]
     },
     "execution_count": 4,
     "metadata": {},
     "output_type": "execute_result"
    }
   ],
   "source": [
    "s[4]"
   ]
  },
  {
   "cell_type": "code",
   "execution_count": 5,
   "id": "d5734834",
   "metadata": {},
   "outputs": [
    {
     "data": {
      "text/plain": [
       "'i'"
      ]
     },
     "execution_count": 5,
     "metadata": {},
     "output_type": "execute_result"
    }
   ],
   "source": [
    "s[-1]"
   ]
  },
  {
   "cell_type": "code",
   "execution_count": 6,
   "id": "b0f7534e",
   "metadata": {},
   "outputs": [
    {
     "data": {
      "text/plain": [
       "'h'"
      ]
     },
     "execution_count": 6,
     "metadata": {},
     "output_type": "execute_result"
    }
   ],
   "source": [
    "s[-2]"
   ]
  },
  {
   "cell_type": "code",
   "execution_count": 7,
   "id": "1c00f304",
   "metadata": {},
   "outputs": [
    {
     "data": {
      "text/plain": [
       "'P'"
      ]
     },
     "execution_count": 7,
     "metadata": {},
     "output_type": "execute_result"
    }
   ],
   "source": [
    "s[-6]"
   ]
  },
  {
   "cell_type": "code",
   "execution_count": 8,
   "id": "ad49e19b",
   "metadata": {},
   "outputs": [],
   "source": [
    "s1 =\"Kabra\""
   ]
  },
  {
   "cell_type": "code",
   "execution_count": 9,
   "id": "82f2a795",
   "metadata": {},
   "outputs": [
    {
     "data": {
      "text/plain": [
       "'a'"
      ]
     },
     "execution_count": 9,
     "metadata": {},
     "output_type": "execute_result"
    }
   ],
   "source": [
    "s1[-1]"
   ]
  },
  {
   "cell_type": "code",
   "execution_count": 10,
   "id": "a79ec745",
   "metadata": {},
   "outputs": [
    {
     "data": {
      "text/plain": [
       "'r'"
      ]
     },
     "execution_count": 10,
     "metadata": {},
     "output_type": "execute_result"
    }
   ],
   "source": [
    "s1[-2]"
   ]
  },
  {
   "cell_type": "code",
   "execution_count": 12,
   "id": "a249f9bc",
   "metadata": {},
   "outputs": [],
   "source": [
    "s2 = \"this is my very first programming class's\" #if we want to use single cousre in between the sentence always cover the whole sentence in double course"
   ]
  },
  {
   "cell_type": "code",
   "execution_count": 13,
   "id": "aa426223",
   "metadata": {},
   "outputs": [
    {
     "data": {
      "text/plain": [
       "'m'"
      ]
     },
     "execution_count": 13,
     "metadata": {},
     "output_type": "execute_result"
    }
   ],
   "source": [
    "s2[8]"
   ]
  },
  {
   "cell_type": "code",
   "execution_count": 14,
   "id": "e9480ea9",
   "metadata": {},
   "outputs": [
    {
     "data": {
      "text/plain": [
       "'his '"
      ]
     },
     "execution_count": 14,
     "metadata": {},
     "output_type": "execute_result"
    }
   ],
   "source": [
    "#indexing this is start from 1 but exclude upper bound 5\n",
    "s2[1:5]\n"
   ]
  },
  {
   "cell_type": "code",
   "execution_count": 15,
   "id": "8b3b483a",
   "metadata": {},
   "outputs": [
    {
     "data": {
      "text/plain": [
       "'s my very first programm'"
      ]
     },
     "execution_count": 15,
     "metadata": {},
     "output_type": "execute_result"
    }
   ],
   "source": [
    "#start from 6 go till 30 but exclude 30\n",
    "s2[6:30]"
   ]
  },
  {
   "cell_type": "code",
   "execution_count": 16,
   "id": "31c21736",
   "metadata": {},
   "outputs": [
    {
     "data": {
      "text/plain": [
       "'sm eyfrtporm'"
      ]
     },
     "execution_count": 16,
     "metadata": {},
     "output_type": "execute_result"
    }
   ],
   "source": [
    "#jump of 2\n",
    "s2[6:30:2]"
   ]
  },
  {
   "cell_type": "code",
   "execution_count": 17,
   "id": "61090ef7",
   "metadata": {},
   "outputs": [],
   "source": [
    "#Slicing operation\n",
    "s3=\"prachikabra\""
   ]
  },
  {
   "cell_type": "code",
   "execution_count": 19,
   "id": "7a92e806",
   "metadata": {},
   "outputs": [
    {
     "data": {
      "text/plain": [
       "'pckr'"
      ]
     },
     "execution_count": 19,
     "metadata": {},
     "output_type": "execute_result"
    }
   ],
   "source": [
    "s3[0:11:3]"
   ]
  },
  {
   "cell_type": "code",
   "execution_count": 22,
   "id": "1863177a",
   "metadata": {},
   "outputs": [
    {
     "data": {
      "text/plain": [
       "''"
      ]
     },
     "execution_count": 22,
     "metadata": {},
     "output_type": "execute_result"
    }
   ],
   "source": [
    "s3[-1:-8:2]"
   ]
  },
  {
   "cell_type": "code",
   "execution_count": 26,
   "id": "05fc8938",
   "metadata": {},
   "outputs": [
    {
     "data": {
      "text/plain": [
       "'arbakihcar'"
      ]
     },
     "execution_count": 26,
     "metadata": {},
     "output_type": "execute_result"
    }
   ],
   "source": [
    "s3[11:0:-1]"
   ]
  },
  {
   "cell_type": "code",
   "execution_count": 27,
   "id": "4470fde0",
   "metadata": {},
   "outputs": [
    {
     "data": {
      "text/plain": [
       "'abkha'"
      ]
     },
     "execution_count": 27,
     "metadata": {},
     "output_type": "execute_result"
    }
   ],
   "source": [
    "s3[11:0:-2]"
   ]
  },
  {
   "cell_type": "code",
   "execution_count": 28,
   "id": "224e4fa2",
   "metadata": {},
   "outputs": [
    {
     "data": {
      "text/plain": [
       "'Pra'"
      ]
     },
     "execution_count": 28,
     "metadata": {},
     "output_type": "execute_result"
    }
   ],
   "source": [
    "s[:-3]"
   ]
  },
  {
   "cell_type": "code",
   "execution_count": 29,
   "id": "279e2a4c",
   "metadata": {},
   "outputs": [
    {
     "data": {
      "text/plain": [
       "'hi'"
      ]
     },
     "execution_count": 29,
     "metadata": {},
     "output_type": "execute_result"
    }
   ],
   "source": [
    "s[-2:]"
   ]
  },
  {
   "cell_type": "code",
   "execution_count": 34,
   "id": "1828ca54",
   "metadata": {},
   "outputs": [
    {
     "data": {
      "text/plain": [
       "'prachikabra'"
      ]
     },
     "execution_count": 34,
     "metadata": {},
     "output_type": "execute_result"
    }
   ],
   "source": [
    "s3[::1]"
   ]
  },
  {
   "cell_type": "code",
   "execution_count": 32,
   "id": "ecea76cb",
   "metadata": {},
   "outputs": [
    {
     "data": {
      "text/plain": [
       "'prachikabra'"
      ]
     },
     "execution_count": 32,
     "metadata": {},
     "output_type": "execute_result"
    }
   ],
   "source": [
    "s3[0:11:1]"
   ]
  },
  {
   "cell_type": "code",
   "execution_count": 33,
   "id": "dd282d2f",
   "metadata": {},
   "outputs": [
    {
     "data": {
      "text/plain": [
       "'arbakihcarp'"
      ]
     },
     "execution_count": 33,
     "metadata": {},
     "output_type": "execute_result"
    }
   ],
   "source": [
    "s3[::-1]  #Reverse string"
   ]
  },
  {
   "cell_type": "code",
   "execution_count": 37,
   "id": "08b7aa05",
   "metadata": {},
   "outputs": [
    {
     "data": {
      "text/plain": [
       "'ihcar'"
      ]
     },
     "execution_count": 37,
     "metadata": {},
     "output_type": "execute_result"
    }
   ],
   "source": [
    "s3[5:0:-1]"
   ]
  },
  {
   "cell_type": "code",
   "execution_count": 38,
   "id": "8ab2ad1e",
   "metadata": {},
   "outputs": [
    {
     "data": {
      "text/plain": [
       "'hikabr'"
      ]
     },
     "execution_count": 38,
     "metadata": {},
     "output_type": "execute_result"
    }
   ],
   "source": [
    "s3[-7:-1:1]"
   ]
  },
  {
   "cell_type": "code",
   "execution_count": 39,
   "id": "0b2353aa",
   "metadata": {},
   "outputs": [
    {
     "data": {
      "text/plain": [
       "''"
      ]
     },
     "execution_count": 39,
     "metadata": {},
     "output_type": "execute_result"
    }
   ],
   "source": [
    "s3[:-1:-1]"
   ]
  },
  {
   "cell_type": "code",
   "execution_count": 40,
   "id": "cecaeca4",
   "metadata": {},
   "outputs": [],
   "source": [
    "s=\"prachi\""
   ]
  },
  {
   "cell_type": "code",
   "execution_count": 41,
   "id": "05f446b1",
   "metadata": {},
   "outputs": [
    {
     "ename": "TypeError",
     "evalue": "can only concatenate str (not \"int\") to str",
     "output_type": "error",
     "traceback": [
      "\u001b[1;31m---------------------------------------------------------------------------\u001b[0m",
      "\u001b[1;31mTypeError\u001b[0m                                 Traceback (most recent call last)",
      "Cell \u001b[1;32mIn[41], line 1\u001b[0m\n\u001b[1;32m----> 1\u001b[0m \u001b[43ms\u001b[49m\u001b[38;5;241;43m+\u001b[39;49m\u001b[38;5;241;43m1\u001b[39;49m\n",
      "\u001b[1;31mTypeError\u001b[0m: can only concatenate str (not \"int\") to str"
     ]
    }
   ],
   "source": [
    "s+1"
   ]
  },
  {
   "cell_type": "code",
   "execution_count": 42,
   "id": "8d53a610",
   "metadata": {},
   "outputs": [
    {
     "data": {
      "text/plain": [
       "'prachi1'"
      ]
     },
     "execution_count": 42,
     "metadata": {},
     "output_type": "execute_result"
    }
   ],
   "source": [
    "s+'1'"
   ]
  },
  {
   "cell_type": "code",
   "execution_count": 43,
   "id": "5fd40de2",
   "metadata": {},
   "outputs": [
    {
     "data": {
      "text/plain": [
       "'prachi1'"
      ]
     },
     "execution_count": 43,
     "metadata": {},
     "output_type": "execute_result"
    }
   ],
   "source": [
    "s+str(1)  #str(1) converts int to str"
   ]
  },
  {
   "cell_type": "code",
   "execution_count": 44,
   "id": "5cbb978f",
   "metadata": {},
   "outputs": [
    {
     "data": {
      "text/plain": [
       "6"
      ]
     },
     "execution_count": 44,
     "metadata": {},
     "output_type": "execute_result"
    }
   ],
   "source": [
    "len(s) #length of string"
   ]
  },
  {
   "cell_type": "code",
   "execution_count": 45,
   "id": "5cbcd2fa",
   "metadata": {},
   "outputs": [
    {
     "data": {
      "text/plain": [
       "'prachiprachi'"
      ]
     },
     "execution_count": 45,
     "metadata": {},
     "output_type": "execute_result"
    }
   ],
   "source": [
    "s *2"
   ]
  },
  {
   "cell_type": "code",
   "execution_count": 47,
   "id": "cadd7491",
   "metadata": {},
   "outputs": [
    {
     "data": {
      "text/plain": [
       "1"
      ]
     },
     "execution_count": 47,
     "metadata": {},
     "output_type": "execute_result"
    }
   ],
   "source": [
    "s.count('i') \n",
    "# count() counts the number letter which we want to count for perticular string "
   ]
  },
  {
   "cell_type": "code",
   "execution_count": 48,
   "id": "018ab127",
   "metadata": {},
   "outputs": [
    {
     "data": {
      "text/plain": [
       "['prachi']"
      ]
     },
     "execution_count": 48,
     "metadata": {},
     "output_type": "execute_result"
    }
   ],
   "source": [
    "s.split()"
   ]
  },
  {
   "cell_type": "code",
   "execution_count": 51,
   "id": "0bc50e20",
   "metadata": {},
   "outputs": [
    {
     "data": {
      "text/plain": [
       "['', 'rachi']"
      ]
     },
     "execution_count": 51,
     "metadata": {},
     "output_type": "execute_result"
    }
   ],
   "source": [
    "s.split('p')\n",
    "# split function splits our string and give in form of list"
   ]
  },
  {
   "cell_type": "code",
   "execution_count": 52,
   "id": "683c2725",
   "metadata": {},
   "outputs": [],
   "source": [
    "p =\"This is my first python class\""
   ]
  },
  {
   "cell_type": "code",
   "execution_count": 53,
   "id": "c0f9021b",
   "metadata": {},
   "outputs": [
    {
     "data": {
      "text/plain": [
       "['This', 'is', 'my', 'first', 'python', 'class']"
      ]
     },
     "execution_count": 53,
     "metadata": {},
     "output_type": "execute_result"
    }
   ],
   "source": [
    "p.split(' ')"
   ]
  },
  {
   "cell_type": "code",
   "execution_count": 54,
   "id": "712b9337",
   "metadata": {},
   "outputs": [
    {
     "data": {
      "text/plain": [
       "list"
      ]
     },
     "execution_count": 54,
     "metadata": {},
     "output_type": "execute_result"
    }
   ],
   "source": [
    "type(p.split(' '))"
   ]
  },
  {
   "cell_type": "code",
   "execution_count": 55,
   "id": "e2628493",
   "metadata": {},
   "outputs": [
    {
     "data": {
      "text/plain": [
       "'THIS IS MY FIRST PYTHON CLASS'"
      ]
     },
     "execution_count": 55,
     "metadata": {},
     "output_type": "execute_result"
    }
   ],
   "source": [
    "p.upper()"
   ]
  },
  {
   "cell_type": "code",
   "execution_count": 57,
   "id": "2322b222",
   "metadata": {},
   "outputs": [
    {
     "data": {
      "text/plain": [
       "['This', 'is', 'my', 'first', 'python', 'class']"
      ]
     },
     "execution_count": 57,
     "metadata": {},
     "output_type": "execute_result"
    }
   ],
   "source": [
    "p.split()"
   ]
  },
  {
   "cell_type": "code",
   "execution_count": 58,
   "id": "ed7c22f1",
   "metadata": {},
   "outputs": [],
   "source": [
    "p = p.upper() #convert all letters in upper case"
   ]
  },
  {
   "cell_type": "code",
   "execution_count": 59,
   "id": "50c1eeab",
   "metadata": {},
   "outputs": [
    {
     "data": {
      "text/plain": [
       "'THIS IS MY FIRST PYTHON CLASS'"
      ]
     },
     "execution_count": 59,
     "metadata": {},
     "output_type": "execute_result"
    }
   ],
   "source": [
    "p"
   ]
  },
  {
   "cell_type": "code",
   "execution_count": 60,
   "id": "ab670271",
   "metadata": {},
   "outputs": [
    {
     "data": {
      "text/plain": [
       "['THIS', 'IS', 'MY', 'FIRST', 'PYTHON', 'CLASS']"
      ]
     },
     "execution_count": 60,
     "metadata": {},
     "output_type": "execute_result"
    }
   ],
   "source": [
    "p.split()"
   ]
  },
  {
   "cell_type": "code",
   "execution_count": 61,
   "id": "acc085e3",
   "metadata": {},
   "outputs": [],
   "source": [
    "s ='prachi'"
   ]
  },
  {
   "cell_type": "code",
   "execution_count": 62,
   "id": "7f85eaa6",
   "metadata": {},
   "outputs": [
    {
     "data": {
      "text/plain": [
       "'Prachi'"
      ]
     },
     "execution_count": 62,
     "metadata": {},
     "output_type": "execute_result"
    }
   ],
   "source": [
    "s.title() #capitalize first letter"
   ]
  },
  {
   "cell_type": "code",
   "execution_count": 63,
   "id": "11e6e5f1",
   "metadata": {},
   "outputs": [
    {
     "data": {
      "text/plain": [
       "'Prachi'"
      ]
     },
     "execution_count": 63,
     "metadata": {},
     "output_type": "execute_result"
    }
   ],
   "source": [
    "s.capitalize() #capitalize first letter"
   ]
  },
  {
   "cell_type": "code",
   "execution_count": 64,
   "id": "1f47ac74",
   "metadata": {},
   "outputs": [],
   "source": [
    "w =\"PraCHI\""
   ]
  },
  {
   "cell_type": "code",
   "execution_count": 65,
   "id": "2211a812",
   "metadata": {},
   "outputs": [
    {
     "data": {
      "text/plain": [
       "'pRAchi'"
      ]
     },
     "execution_count": 65,
     "metadata": {},
     "output_type": "execute_result"
    }
   ],
   "source": [
    "w.swapcase() #convert upper case to lower and lower to upper"
   ]
  },
  {
   "cell_type": "code",
   "execution_count": 66,
   "id": "9d16cb97",
   "metadata": {},
   "outputs": [],
   "source": [
    "d=\"prachi kabra\""
   ]
  },
  {
   "cell_type": "code",
   "execution_count": 67,
   "id": "405f8e81",
   "metadata": {},
   "outputs": [
    {
     "data": {
      "text/plain": [
       "'arbak ihcarp'"
      ]
     },
     "execution_count": 67,
     "metadata": {},
     "output_type": "execute_result"
    }
   ],
   "source": [
    "''.join(reversed(d)) #resverse the string"
   ]
  },
  {
   "cell_type": "code",
   "execution_count": 69,
   "id": "dd97f008",
   "metadata": {},
   "outputs": [
    {
     "data": {
      "text/plain": [
       "'arbak ihcarp'"
      ]
     },
     "execution_count": 69,
     "metadata": {},
     "output_type": "execute_result"
    }
   ],
   "source": [
    "d[::-1]"
   ]
  },
  {
   "cell_type": "code",
   "execution_count": 70,
   "id": "6e83e9c2",
   "metadata": {},
   "outputs": [],
   "source": [
    "s=\"   sudh   \""
   ]
  },
  {
   "cell_type": "code",
   "execution_count": 71,
   "id": "1047beca",
   "metadata": {},
   "outputs": [
    {
     "data": {
      "text/plain": [
       "'sudh'"
      ]
     },
     "execution_count": 71,
     "metadata": {},
     "output_type": "execute_result"
    }
   ],
   "source": [
    "s.strip() #remove the space before and after the string"
   ]
  },
  {
   "cell_type": "code",
   "execution_count": 72,
   "id": "df2a27c6",
   "metadata": {},
   "outputs": [
    {
     "data": {
      "text/plain": [
       "'sudh   '"
      ]
     },
     "execution_count": 72,
     "metadata": {},
     "output_type": "execute_result"
    }
   ],
   "source": [
    "s.lstrip()"
   ]
  },
  {
   "cell_type": "code",
   "execution_count": 73,
   "id": "3e715263",
   "metadata": {},
   "outputs": [
    {
     "data": {
      "text/plain": [
       "'   sudh'"
      ]
     },
     "execution_count": 73,
     "metadata": {},
     "output_type": "execute_result"
    }
   ],
   "source": [
    "s.rstrip()"
   ]
  },
  {
   "cell_type": "code",
   "execution_count": 75,
   "id": "1df5cfb5",
   "metadata": {},
   "outputs": [],
   "source": [
    "t=\"Prachi\""
   ]
  },
  {
   "cell_type": "code",
   "execution_count": 77,
   "id": "1307ee86",
   "metadata": {},
   "outputs": [
    {
     "data": {
      "text/plain": [
       "'P  r  a  c  h  i'"
      ]
     },
     "execution_count": 77,
     "metadata": {},
     "output_type": "execute_result"
    }
   ],
   "source": [
    "\"  \".join(t)"
   ]
  },
  {
   "cell_type": "code",
   "execution_count": 78,
   "id": "e326dc72",
   "metadata": {},
   "outputs": [],
   "source": [
    "k='prachi'"
   ]
  },
  {
   "cell_type": "code",
   "execution_count": 80,
   "id": "15092c24",
   "metadata": {},
   "outputs": [
    {
     "data": {
      "text/plain": [
       "'       prachi       '"
      ]
     },
     "execution_count": 80,
     "metadata": {},
     "output_type": "execute_result"
    }
   ],
   "source": [
    "k.center(20,' ')"
   ]
  },
  {
   "cell_type": "code",
   "execution_count": 81,
   "id": "80e05557",
   "metadata": {},
   "outputs": [
    {
     "data": {
      "text/plain": [
       "'tttttttprachittttttt'"
      ]
     },
     "execution_count": 81,
     "metadata": {},
     "output_type": "execute_result"
    }
   ],
   "source": [
    "k.center(20,'t')"
   ]
  },
  {
   "cell_type": "code",
   "execution_count": 83,
   "id": "a8a02ad6",
   "metadata": {},
   "outputs": [
    {
     "data": {
      "text/plain": [
       "False"
      ]
     },
     "execution_count": 83,
     "metadata": {},
     "output_type": "execute_result"
    }
   ],
   "source": [
    "k.isupper()"
   ]
  },
  {
   "cell_type": "code",
   "execution_count": 84,
   "id": "029c1a31",
   "metadata": {},
   "outputs": [
    {
     "data": {
      "text/plain": [
       "True"
      ]
     },
     "execution_count": 84,
     "metadata": {},
     "output_type": "execute_result"
    }
   ],
   "source": [
    "k.islower()"
   ]
  },
  {
   "cell_type": "code",
   "execution_count": 85,
   "id": "99e795d8",
   "metadata": {},
   "outputs": [
    {
     "data": {
      "text/plain": [
       "False"
      ]
     },
     "execution_count": 85,
     "metadata": {},
     "output_type": "execute_result"
    }
   ],
   "source": [
    "k.isspace()"
   ]
  },
  {
   "cell_type": "code",
   "execution_count": 86,
   "id": "524f39b2",
   "metadata": {},
   "outputs": [],
   "source": [
    "s4=\"    \""
   ]
  },
  {
   "cell_type": "code",
   "execution_count": 87,
   "id": "fbe07aa3",
   "metadata": {},
   "outputs": [
    {
     "data": {
      "text/plain": [
       "True"
      ]
     },
     "execution_count": 87,
     "metadata": {},
     "output_type": "execute_result"
    }
   ],
   "source": [
    "s4.isspace()"
   ]
  },
  {
   "cell_type": "code",
   "execution_count": 88,
   "id": "a5448dee",
   "metadata": {},
   "outputs": [],
   "source": [
    "s5=\"67899\""
   ]
  },
  {
   "cell_type": "code",
   "execution_count": 89,
   "id": "f4d0e248",
   "metadata": {},
   "outputs": [
    {
     "data": {
      "text/plain": [
       "True"
      ]
     },
     "execution_count": 89,
     "metadata": {},
     "output_type": "execute_result"
    }
   ],
   "source": [
    "s5.isdigit()"
   ]
  },
  {
   "cell_type": "code",
   "execution_count": 90,
   "id": "3d9b7c67",
   "metadata": {},
   "outputs": [
    {
     "data": {
      "text/plain": [
       "True"
      ]
     },
     "execution_count": 90,
     "metadata": {},
     "output_type": "execute_result"
    }
   ],
   "source": [
    "k.isalnum()"
   ]
  },
  {
   "cell_type": "code",
   "execution_count": 91,
   "id": "6bbfc9db",
   "metadata": {},
   "outputs": [
    {
     "data": {
      "text/plain": [
       "False"
      ]
     },
     "execution_count": 91,
     "metadata": {},
     "output_type": "execute_result"
    }
   ],
   "source": [
    "s.isalpha()"
   ]
  },
  {
   "cell_type": "code",
   "execution_count": 92,
   "id": "223ed26f",
   "metadata": {},
   "outputs": [],
   "source": [
    "s7=\"hhkj986\""
   ]
  },
  {
   "cell_type": "code",
   "execution_count": 93,
   "id": "0646ee0b",
   "metadata": {},
   "outputs": [
    {
     "data": {
      "text/plain": [
       "True"
      ]
     },
     "execution_count": 93,
     "metadata": {},
     "output_type": "execute_result"
    }
   ],
   "source": [
    "s7.isalnum()"
   ]
  },
  {
   "cell_type": "code",
   "execution_count": 94,
   "id": "a6619134",
   "metadata": {},
   "outputs": [
    {
     "data": {
      "text/plain": [
       "False"
      ]
     },
     "execution_count": 94,
     "metadata": {},
     "output_type": "execute_result"
    }
   ],
   "source": [
    "s7.isalpha()"
   ]
  },
  {
   "cell_type": "code",
   "execution_count": 95,
   "id": "03de15b9",
   "metadata": {},
   "outputs": [],
   "source": [
    "v = 'prachi'"
   ]
  },
  {
   "cell_type": "code",
   "execution_count": 97,
   "id": "39b625f9",
   "metadata": {},
   "outputs": [
    {
     "data": {
      "text/plain": [
       "True"
      ]
     },
     "execution_count": 97,
     "metadata": {},
     "output_type": "execute_result"
    }
   ],
   "source": [
    "v.startswith('p')"
   ]
  },
  {
   "cell_type": "code",
   "execution_count": 98,
   "id": "68c13b1c",
   "metadata": {},
   "outputs": [
    {
     "data": {
      "text/plain": [
       "False"
      ]
     },
     "execution_count": 98,
     "metadata": {},
     "output_type": "execute_result"
    }
   ],
   "source": [
    "v.startswith('P')"
   ]
  },
  {
   "cell_type": "code",
   "execution_count": 99,
   "id": "f7288e9b",
   "metadata": {},
   "outputs": [
    {
     "data": {
      "text/plain": [
       "False"
      ]
     },
     "execution_count": 99,
     "metadata": {},
     "output_type": "execute_result"
    }
   ],
   "source": [
    "v.endswith('p')"
   ]
  },
  {
   "cell_type": "code",
   "execution_count": 100,
   "id": "a19a36cb",
   "metadata": {},
   "outputs": [
    {
     "data": {
      "text/plain": [
       "True"
      ]
     },
     "execution_count": 100,
     "metadata": {},
     "output_type": "execute_result"
    }
   ],
   "source": [
    "v.endswith('i')"
   ]
  },
  {
   "cell_type": "code",
   "execution_count": 101,
   "id": "10cd3bb0",
   "metadata": {},
   "outputs": [],
   "source": [
    "s='a'"
   ]
  },
  {
   "cell_type": "code",
   "execution_count": 104,
   "id": "09778926",
   "metadata": {},
   "outputs": [
    {
     "data": {
      "text/plain": [
       "True"
      ]
     },
     "execution_count": 104,
     "metadata": {},
     "output_type": "execute_result"
    }
   ],
   "source": [
    "s.isascii()"
   ]
  },
  {
   "cell_type": "code",
   "execution_count": 106,
   "id": "275ddaae",
   "metadata": {},
   "outputs": [
    {
     "data": {
      "text/plain": [
       "'pdrdadcdhdi'"
      ]
     },
     "execution_count": 106,
     "metadata": {},
     "output_type": "execute_result"
    }
   ],
   "source": [
    "'d'.join('prachi')"
   ]
  },
  {
   "cell_type": "code",
   "execution_count": 108,
   "id": "933579cc",
   "metadata": {},
   "outputs": [
    {
     "data": {
      "text/plain": [
       "'ihcarp'"
      ]
     },
     "execution_count": 108,
     "metadata": {},
     "output_type": "execute_result"
    }
   ],
   "source": [
    "\"\".join(reversed('prachi'))"
   ]
  },
  {
   "cell_type": "markdown",
   "id": "78552216",
   "metadata": {},
   "source": [
    "s = \" this is My First Python programming class and i am learNING python string and its function\"\n",
    "\n",
    "1.Try to extract data from index 1 to index 300 with a jump of 3\n",
    "\n",
    "2.Try to reverse a string without using reverse function\n",
    "\n",
    "3.Try to split a string after conversion of entire in uppercase\n",
    "\n",
    "4.Try to convert the whole string into lower case\n",
    "\n",
    "5.Try to capitalize the whole string\n",
    "\n",
    "6.Write difference between isalnum() and isapha()\n",
    "\n",
    "7.Try to give expample of expand tab\n",
    "\n",
    "8.Give an example of strip, lstrip, rstrip\n",
    "\n",
    "9.Replace a string charector by another charector by taking your own example\n",
    "\n",
    "10.Try to give a defination of string center function with and example\n",
    "\n",
    "11.Write your own defination of compiller and interpreter\n",
    "\n",
    "12.Python is a interpreted of compiled language give a clear ans with your understanding\n",
    "\n",
    "13.Try to write usecase of python with your understanding"
   ]
  },
  {
   "cell_type": "code",
   "execution_count": 115,
   "id": "6c446908",
   "metadata": {},
   "outputs": [],
   "source": [
    "s = \"this is My First Python programming class and i am learNING python string and its function\""
   ]
  },
  {
   "cell_type": "code",
   "execution_count": 110,
   "id": "da4da9ac",
   "metadata": {},
   "outputs": [
    {
     "data": {
      "text/plain": [
       "'tssyityopgmncsa alrNph rgni ni'"
      ]
     },
     "execution_count": 110,
     "metadata": {},
     "output_type": "execute_result"
    }
   ],
   "source": [
    "#1\n",
    "s[1:300:3]"
   ]
  },
  {
   "cell_type": "code",
   "execution_count": 111,
   "id": "eda539ae",
   "metadata": {},
   "outputs": [
    {
     "data": {
      "text/plain": [
       "'noitcnuf sti dna gnirts nohtyp GNINrael ma i dna ssalc gnimmargorp nohtyP tsriF yM si siht '"
      ]
     },
     "execution_count": 111,
     "metadata": {},
     "output_type": "execute_result"
    }
   ],
   "source": [
    "#2\n",
    "s[::-1]"
   ]
  },
  {
   "cell_type": "code",
   "execution_count": 112,
   "id": "3637ada6",
   "metadata": {},
   "outputs": [],
   "source": [
    "#3\n",
    "s=s.upper()"
   ]
  },
  {
   "cell_type": "code",
   "execution_count": 113,
   "id": "d5d22c5d",
   "metadata": {},
   "outputs": [
    {
     "data": {
      "text/plain": [
       "['THIS',\n",
       " 'IS',\n",
       " 'MY',\n",
       " 'FIRST',\n",
       " 'PYTHON',\n",
       " 'PROGRAMMING',\n",
       " 'CLASS',\n",
       " 'AND',\n",
       " 'I',\n",
       " 'AM',\n",
       " 'LEARNING',\n",
       " 'PYTHON',\n",
       " 'STRING',\n",
       " 'AND',\n",
       " 'ITS',\n",
       " 'FUNCTION']"
      ]
     },
     "execution_count": 113,
     "metadata": {},
     "output_type": "execute_result"
    }
   ],
   "source": [
    "s.split()"
   ]
  },
  {
   "cell_type": "code",
   "execution_count": 116,
   "id": "ab09b6bc",
   "metadata": {},
   "outputs": [
    {
     "data": {
      "text/plain": [
       "'this is my first python programming class and i am learning python string and its function'"
      ]
     },
     "execution_count": 116,
     "metadata": {},
     "output_type": "execute_result"
    }
   ],
   "source": [
    "#4\n",
    "s.lower()"
   ]
  },
  {
   "cell_type": "code",
   "execution_count": 117,
   "id": "bbcc7026",
   "metadata": {},
   "outputs": [
    {
     "data": {
      "text/plain": [
       "'This is my first python programming class and i am learning python string and its function'"
      ]
     },
     "execution_count": 117,
     "metadata": {},
     "output_type": "execute_result"
    }
   ],
   "source": [
    "#5\n",
    "s.capitalize()"
   ]
  },
  {
   "cell_type": "raw",
   "id": "1b499a00",
   "metadata": {},
   "source": [
    "#6\n",
    "isalnum(): This function returns true if string is made up of alphanumeric characters.character  may be alpha or number it will return true .If the string is empty then it will return False.\n",
    "\n",
    "isalpha():This will return True only when characters are alpha otherwise it will return False."
   ]
  },
  {
   "cell_type": "code",
   "execution_count": 118,
   "id": "76bf3326",
   "metadata": {},
   "outputs": [],
   "source": [
    "#7\n",
    "s1='this\\tis\\tmy\\tfirst\\tpython\\tclass.'"
   ]
  },
  {
   "cell_type": "code",
   "execution_count": 119,
   "id": "1c8f02f6",
   "metadata": {},
   "outputs": [
    {
     "data": {
      "text/plain": [
       "'this    is      my      first   python  class.'"
      ]
     },
     "execution_count": 119,
     "metadata": {},
     "output_type": "execute_result"
    }
   ],
   "source": [
    "s1.expandtabs()"
   ]
  },
  {
   "cell_type": "code",
   "execution_count": 121,
   "id": "63836287",
   "metadata": {},
   "outputs": [],
   "source": [
    "#8\n",
    "s2=' prachi  '"
   ]
  },
  {
   "cell_type": "code",
   "execution_count": 122,
   "id": "b3ab8bf2",
   "metadata": {},
   "outputs": [
    {
     "data": {
      "text/plain": [
       "'prachi'"
      ]
     },
     "execution_count": 122,
     "metadata": {},
     "output_type": "execute_result"
    }
   ],
   "source": [
    "s2.strip()"
   ]
  },
  {
   "cell_type": "code",
   "execution_count": 124,
   "id": "b28a24c3",
   "metadata": {},
   "outputs": [
    {
     "data": {
      "text/plain": [
       "'prachi  '"
      ]
     },
     "execution_count": 124,
     "metadata": {},
     "output_type": "execute_result"
    }
   ],
   "source": [
    "s2.lstrip()"
   ]
  },
  {
   "cell_type": "code",
   "execution_count": 125,
   "id": "0bb512fd",
   "metadata": {},
   "outputs": [
    {
     "data": {
      "text/plain": [
       "' prachi'"
      ]
     },
     "execution_count": 125,
     "metadata": {},
     "output_type": "execute_result"
    }
   ],
   "source": [
    "s2.rstrip()"
   ]
  },
  {
   "cell_type": "code",
   "execution_count": 126,
   "id": "df904462",
   "metadata": {},
   "outputs": [],
   "source": [
    "#9\n",
    "s3=\"This is my dog bingo\""
   ]
  },
  {
   "cell_type": "code",
   "execution_count": 127,
   "id": "cae207b5",
   "metadata": {},
   "outputs": [
    {
     "data": {
      "text/plain": [
       "'ThIs Is my dog bIngo'"
      ]
     },
     "execution_count": 127,
     "metadata": {},
     "output_type": "execute_result"
    }
   ],
   "source": [
    "s3.replace('i','I')"
   ]
  },
  {
   "cell_type": "markdown",
   "id": "4777c21c",
   "metadata": {},
   "source": [
    "#10\n",
    "\n",
    "String center() is a function which align the string in center using a specified character or by default by a space.\n",
    "\n",
    "Ex."
   ]
  },
  {
   "cell_type": "code",
   "execution_count": 129,
   "id": "44ed37b5",
   "metadata": {},
   "outputs": [
    {
     "data": {
      "text/plain": [
       "'*******Prachi*******'"
      ]
     },
     "execution_count": 129,
     "metadata": {},
     "output_type": "execute_result"
    }
   ],
   "source": [
    "s4=\"Prachi\"\n",
    "s4.center(20,'*')"
   ]
  },
  {
   "cell_type": "markdown",
   "id": "53afd5a0",
   "metadata": {},
   "source": [
    "#11\n",
    "Compiler : A compiler takes a whole program at time.\n",
    "    \n",
    "The compilation is done before execution.\n",
    "    \n",
    "Interpreter: It takes a single line of code or instruction at a time.\n",
    "    \n",
    "compilation and execution takes place simultaneously.\n",
    "    "
   ]
  },
  {
   "cell_type": "markdown",
   "id": "a2cd0ff7",
   "metadata": {},
   "source": [
    "#12\n",
    "Python is a interpreted language, which means the sourcecode is converted into bytecode then executed by the python virtual machine."
   ]
  },
  {
   "cell_type": "code",
   "execution_count": null,
   "id": "f0d8d005",
   "metadata": {},
   "outputs": [],
   "source": [
    "#13\n",
    "\n",
    "Usecases of python:\n",
    "    1)Data Science\n",
    "    2)AI(Artificial Intillegent)\n",
    "    3)Games and Graphics\n",
    "    4)Web development\n",
    "    5)ML(Machine learning)"
   ]
  }
 ],
 "metadata": {
  "kernelspec": {
   "display_name": "Python 3 (ipykernel)",
   "language": "python",
   "name": "python3"
  },
  "language_info": {
   "codemirror_mode": {
    "name": "ipython",
    "version": 3
   },
   "file_extension": ".py",
   "mimetype": "text/x-python",
   "name": "python",
   "nbconvert_exporter": "python",
   "pygments_lexer": "ipython3",
   "version": "3.10.9"
  }
 },
 "nbformat": 4,
 "nbformat_minor": 5
}
